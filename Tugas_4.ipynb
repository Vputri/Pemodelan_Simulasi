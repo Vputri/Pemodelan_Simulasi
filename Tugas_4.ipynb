{
  "nbformat": 4,
  "nbformat_minor": 0,
  "metadata": {
    "colab": {
      "name": "Tugas_4.ipynb",
      "provenance": [],
      "collapsed_sections": [],
      "authorship_tag": "ABX9TyMr3LHfkMbmq9VL3sLic0MR",
      "include_colab_link": true
    },
    "kernelspec": {
      "name": "python3",
      "display_name": "Python 3"
    }
  },
  "cells": [
    {
      "cell_type": "markdown",
      "metadata": {
        "id": "view-in-github",
        "colab_type": "text"
      },
      "source": [
        "<a href=\"https://colab.research.google.com/github/Vputri/Pemodelan_Simulasi/blob/main/Tugas_4.ipynb\" target=\"_parent\"><img src=\"https://colab.research.google.com/assets/colab-badge.svg\" alt=\"Open In Colab\"/></a>"
      ]
    },
    {
      "cell_type": "markdown",
      "metadata": {
        "id": "gON8NxIKzwOt"
      },
      "source": [
        "# POISSON"
      ]
    },
    {
      "cell_type": "code",
      "metadata": {
        "id": "zBARmV2CMw4H"
      },
      "source": [
        "from math import factorial, exp\n",
        "\n",
        "def probablititas(x, miu = 1):\n",
        "  poisson= ((miu**x) * exp(-miu)) / factorial(x)\n",
        "  return poisson\n",
        "\n",
        "def poison(n, p, miu = 1):\n",
        "  hasil = (miu/n) * p\n",
        "  return hasil\n",
        "\n",
        "miu = 5\n",
        "n = 10\n",
        "\n",
        "pj = []\n",
        "pj.append(probablititas(1, miu))\n",
        "\n",
        "fj = []\n",
        "fj.append(sum(pj))\n",
        "\n",
        "for i in range(1, n):\n",
        "  pj.append(poison(i, pj[-1], miu))\n",
        "  fj.append(sum(pj))"
      ],
      "execution_count": 1,
      "outputs": []
    },
    {
      "cell_type": "code",
      "metadata": {
        "id": "PduD88pSQA9n"
      },
      "source": [
        "def random(a, m, c, x0, n, k):\n",
        "\tx = []\n",
        "\tx.append(x0)\n",
        "\tfor i in range(n-1):\n",
        "\t\trand = (a * x[i] + c) % m\n",
        "\t\tx.append(rand)\n",
        "\treturn x\n",
        "\n",
        "a = 7\n",
        "m = 99\n",
        "c = 6\n",
        "x0 = 3\n",
        "n = 10\n",
        "k = 10\n",
        "\n",
        "xi = random(a, m, c, x0, n, k)\n",
        "U = [(i/m) for i in xi]"
      ],
      "execution_count": 2,
      "outputs": []
    },
    {
      "cell_type": "code",
      "metadata": {
        "id": "d3bBnk2BVU6x"
      },
      "source": [
        "hasil = []\n",
        "\n",
        "for i in range(len(U)):\n",
        "\tfor j in range(len(fj)):\n",
        "\t\tif U[i] < fj[j]:\n",
        "\t\t\thasil.append(j)\n",
        "\t\t\tbreak"
      ],
      "execution_count": 3,
      "outputs": []
    },
    {
      "cell_type": "code",
      "metadata": {
        "id": "IpsnxkRKl_yc",
        "outputId": "c1dc32a3-2710-4819-e783-94632e365651",
        "colab": {
          "base_uri": "https://localhost:8080/",
          "height": 363
        }
      },
      "source": [
        "import pandas as pd\n",
        "\n",
        "xi = pd.DataFrame(xi,columns =['x[i]']) \n",
        "u = pd.DataFrame(U,columns =['U[i]']) \n",
        "hasil = pd.DataFrame(hasil,columns =['p[i]'])\n",
        "result = pd.concat([xi, u, hasil], axis=1)\n",
        "result"
      ],
      "execution_count": 4,
      "outputs": [
        {
          "output_type": "execute_result",
          "data": {
            "text/html": [
              "<div>\n",
              "<style scoped>\n",
              "    .dataframe tbody tr th:only-of-type {\n",
              "        vertical-align: middle;\n",
              "    }\n",
              "\n",
              "    .dataframe tbody tr th {\n",
              "        vertical-align: top;\n",
              "    }\n",
              "\n",
              "    .dataframe thead th {\n",
              "        text-align: right;\n",
              "    }\n",
              "</style>\n",
              "<table border=\"1\" class=\"dataframe\">\n",
              "  <thead>\n",
              "    <tr style=\"text-align: right;\">\n",
              "      <th></th>\n",
              "      <th>x[i]</th>\n",
              "      <th>U[i]</th>\n",
              "      <th>p[i]</th>\n",
              "    </tr>\n",
              "  </thead>\n",
              "  <tbody>\n",
              "    <tr>\n",
              "      <th>0</th>\n",
              "      <td>3</td>\n",
              "      <td>0.030303</td>\n",
              "      <td>0</td>\n",
              "    </tr>\n",
              "    <tr>\n",
              "      <th>1</th>\n",
              "      <td>27</td>\n",
              "      <td>0.272727</td>\n",
              "      <td>2</td>\n",
              "    </tr>\n",
              "    <tr>\n",
              "      <th>2</th>\n",
              "      <td>96</td>\n",
              "      <td>0.969697</td>\n",
              "      <td>3</td>\n",
              "    </tr>\n",
              "    <tr>\n",
              "      <th>3</th>\n",
              "      <td>84</td>\n",
              "      <td>0.848485</td>\n",
              "      <td>3</td>\n",
              "    </tr>\n",
              "    <tr>\n",
              "      <th>4</th>\n",
              "      <td>0</td>\n",
              "      <td>0.000000</td>\n",
              "      <td>0</td>\n",
              "    </tr>\n",
              "    <tr>\n",
              "      <th>5</th>\n",
              "      <td>6</td>\n",
              "      <td>0.060606</td>\n",
              "      <td>1</td>\n",
              "    </tr>\n",
              "    <tr>\n",
              "      <th>6</th>\n",
              "      <td>48</td>\n",
              "      <td>0.484848</td>\n",
              "      <td>2</td>\n",
              "    </tr>\n",
              "    <tr>\n",
              "      <th>7</th>\n",
              "      <td>45</td>\n",
              "      <td>0.454545</td>\n",
              "      <td>2</td>\n",
              "    </tr>\n",
              "    <tr>\n",
              "      <th>8</th>\n",
              "      <td>24</td>\n",
              "      <td>0.242424</td>\n",
              "      <td>2</td>\n",
              "    </tr>\n",
              "    <tr>\n",
              "      <th>9</th>\n",
              "      <td>75</td>\n",
              "      <td>0.757576</td>\n",
              "      <td>3</td>\n",
              "    </tr>\n",
              "  </tbody>\n",
              "</table>\n",
              "</div>"
            ],
            "text/plain": [
              "   x[i]      U[i]  p[i]\n",
              "0     3  0.030303     0\n",
              "1    27  0.272727     2\n",
              "2    96  0.969697     3\n",
              "3    84  0.848485     3\n",
              "4     0  0.000000     0\n",
              "5     6  0.060606     1\n",
              "6    48  0.484848     2\n",
              "7    45  0.454545     2\n",
              "8    24  0.242424     2\n",
              "9    75  0.757576     3"
            ]
          },
          "metadata": {
            "tags": []
          },
          "execution_count": 4
        }
      ]
    },
    {
      "cell_type": "code",
      "metadata": {
        "id": "EMdMn74mqKSu",
        "outputId": "d081d23f-70ee-4cfa-e428-92d9288ddffb",
        "colab": {
          "base_uri": "https://localhost:8080/",
          "height": 363
        }
      },
      "source": [
        "d = {'p':pj,'F':fj}\n",
        "df = pd.DataFrame(d)\n",
        "df"
      ],
      "execution_count": 5,
      "outputs": [
        {
          "output_type": "execute_result",
          "data": {
            "text/html": [
              "<div>\n",
              "<style scoped>\n",
              "    .dataframe tbody tr th:only-of-type {\n",
              "        vertical-align: middle;\n",
              "    }\n",
              "\n",
              "    .dataframe tbody tr th {\n",
              "        vertical-align: top;\n",
              "    }\n",
              "\n",
              "    .dataframe thead th {\n",
              "        text-align: right;\n",
              "    }\n",
              "</style>\n",
              "<table border=\"1\" class=\"dataframe\">\n",
              "  <thead>\n",
              "    <tr style=\"text-align: right;\">\n",
              "      <th></th>\n",
              "      <th>p</th>\n",
              "      <th>F</th>\n",
              "    </tr>\n",
              "  </thead>\n",
              "  <tbody>\n",
              "    <tr>\n",
              "      <th>0</th>\n",
              "      <td>0.033690</td>\n",
              "      <td>0.033690</td>\n",
              "    </tr>\n",
              "    <tr>\n",
              "      <th>1</th>\n",
              "      <td>0.168449</td>\n",
              "      <td>0.202138</td>\n",
              "    </tr>\n",
              "    <tr>\n",
              "      <th>2</th>\n",
              "      <td>0.421122</td>\n",
              "      <td>0.623260</td>\n",
              "    </tr>\n",
              "    <tr>\n",
              "      <th>3</th>\n",
              "      <td>0.701869</td>\n",
              "      <td>1.325130</td>\n",
              "    </tr>\n",
              "    <tr>\n",
              "      <th>4</th>\n",
              "      <td>0.877337</td>\n",
              "      <td>2.202466</td>\n",
              "    </tr>\n",
              "    <tr>\n",
              "      <th>5</th>\n",
              "      <td>0.877337</td>\n",
              "      <td>3.079803</td>\n",
              "    </tr>\n",
              "    <tr>\n",
              "      <th>6</th>\n",
              "      <td>0.731114</td>\n",
              "      <td>3.810917</td>\n",
              "    </tr>\n",
              "    <tr>\n",
              "      <th>7</th>\n",
              "      <td>0.522224</td>\n",
              "      <td>4.333142</td>\n",
              "    </tr>\n",
              "    <tr>\n",
              "      <th>8</th>\n",
              "      <td>0.326390</td>\n",
              "      <td>4.659532</td>\n",
              "    </tr>\n",
              "    <tr>\n",
              "      <th>9</th>\n",
              "      <td>0.181328</td>\n",
              "      <td>4.840860</td>\n",
              "    </tr>\n",
              "  </tbody>\n",
              "</table>\n",
              "</div>"
            ],
            "text/plain": [
              "          p         F\n",
              "0  0.033690  0.033690\n",
              "1  0.168449  0.202138\n",
              "2  0.421122  0.623260\n",
              "3  0.701869  1.325130\n",
              "4  0.877337  2.202466\n",
              "5  0.877337  3.079803\n",
              "6  0.731114  3.810917\n",
              "7  0.522224  4.333142\n",
              "8  0.326390  4.659532\n",
              "9  0.181328  4.840860"
            ]
          },
          "metadata": {
            "tags": []
          },
          "execution_count": 5
        }
      ]
    },
    {
      "cell_type": "markdown",
      "metadata": {
        "id": "ULqUhFuAz10e"
      },
      "source": [
        "# Exponential"
      ]
    },
    {
      "cell_type": "markdown",
      "metadata": {
        "id": "FXLtChsR4OE8"
      },
      "source": [
        "![image.png](data:image/png;base64,iVBORw0KGgoAAAANSUhEUgAABEYAAAFxCAIAAADxnTrwAAAAA3NCSVQICAjb4U/gAAAgAElEQVR4Xuy9PXAqx7rvPeutUwUnAjuBHcG2A7gRnLKrxIk0p8oucSNxgm2xI7ETixOJEwnXTcjWOLliRws7ETsS1656xQneK3bZVeJEwlV2iR2JFdhiRWIlFisSitb7754PBpjhQyAkxH+qvCxm+uN5fk93Tz9098OL9+/fK7xIgARIgARIgARIgARIgARIYDUJ/D+rKfaKSd2uaaV6b6WEbmqJcND74kUw25hV7nYpGQ76X7zwpqt61l69pNXasxYzX/puQ0vFw+FoFP+p+RWDP1H1OawzsezHStDIxWWLC+ebjyUC651IoFtNo3PDTGq5MzHxmiToVAwmyXJ3sSrXc1EJO661FlvwXKU9eht4mljmYrqszK2iKl/O/kxtWVWyHhJYIoFHcGl6raqWSWL6giuMCWdcTWe1Sr39JKf8kFWrNOcRrdcqJZOakkh4l2jW+auK5xvtWi50n4LC2Vq7UdjoZ/UmEoqWTJZa83AcK0m7pAbDmao1oejVcqmv2ulau9VqVVPd5tNsXGNVGvtwDuuMLfcxHyaKzXY1E3hMEVj3RAL+VKWN3uaZmPApJ+g1y5pWvbeXMJw9mK60MVV8AI3VYgv+km/ukpta3B/NNRY0/j56G1gUlrm5zl5Ap5oOBpPl9jQ5O/gqsLjg7wKjuXq7no9NUz3TkMAKEli2S9OuZOLxXD2aqzY7uNrtVr2U8dYLf/63dGmqbr5cxnh5Fb4qNe7/3VuvWUjllXwlH18tj2axmL1xEOjlU4W5nMMxMnn98JD9fotxq954G0gkosjijWuNasY/JjMfkcAQgb29vU8//fTFixeff/45/sX18ccf5/P5m5ube7BabGn3EIBZBgl0G6WvCuV7f8MyZ/ZHsAbGx3Aw7F3nd9AjUHeq0uvF97hYeXN6NnyvUyt+pVXbw7f5mQRIwJXAcl2appbKVLyFWi2fDBuTTG8wkSnXtI3V/trPjW+nki91krl00C3B2twPpvPJTilffZjdKsF0udkoqtaLotfrKV7rDc5X+do0swUp+s033/zpT3/66KOPfvjhB5w2xPXrr79+8skncE7uUcNiS7uHAMyy5gSi2WqznouvOYWnoL4/WWw0yilOCJ6CMSjDMySwTJemWy1o/1DUfFZ8eT5whTPFUi7R/ya90yimE1EchMB/iXSxbsyDW/mo/MYUhzRalWwiiEmrP5oqDnz1322Ws6qRNZ7Km8u2nZKqf9uaLDfhUEXFBmX9sAcWYnKpRFxcorZMf00GO3axh+pO+e98XG6SS5rrSC7iDWulKN1apd5LJG17zrDrLp9WrdpSmqmbyNxrVXLJOLQWzxOpXMn+0Cx9Dgh6Ee1aXj9lAnXVTKlpX4LCM8HG6w/GhWjDGxXGKd6t4/CKMEkwmsw7fLXkBYdevVxzWPHC4Ru5YzyYrUsRGwAuPieKbfFxwHY5NSzkCyfzdbMkM3k41zBzJ0tvlDcoFVdCa8pCYecstjuCbjQcT+Yqxne0Lg3ju2pKtBCxi71R1ySTYDwtYEFPHVEULycHZYYFtje2MdafxqwTrIMvjzMOTX+0ZH9YzcFCaG4Z2YmCiWxFkh696tmgxBDO1RqltG7feMb6gruZT0hLRfP6Lp5aVh608CYrsuncr+peRzYlYWY0pZrdCZ65dysd0drNLpXMTn+m65dffvnss8/sRPDx+++/H2U0zZ3FljZNjUNp0Diy+jAneoCaLVujZm+gqadk9w8nsgNduNssZRL4lh9P1OzEjbi9dlVAx55ikI8nM9jjZY4kxiPZC22jz6AMk7pbS9NbnT+NL8OMliLkMmqp643whVqSTadbSWHIEKcH6uJjr5oJx/M/KXe1jL73OV01hBs3MFo03bPLJNisOzpAyWrl2C4O9w0MP1a5tj+QNGsUkkg7bBFwl7Mr35v6+yOuGtx7QlHbgRyXEa8qJHDpX1K4qduAvddXpSYYQOSZTPdGOGGcEfVPwoJRw2nSMFvTspkB4mKTmBQezT4lj44Zbyp8FkdRplKnWRaDrP4q+b9FNSj+9qaRW16dmtiELycfoqtgWDYaY6ecCqvF18pbuD/iwoYxPceYhjTbWAfp0wn9ZWr2HaGerq/Yxi0kwaFNOaD7sdXZEJn/I4EnTUD/DnIp/57uYlNw7OXVhMpuz/cjHt/Wq8tbJLy9OtoOeGIHF+LD+5vrq7ODmOKJbOzsH59fXl6c7MU8SuTgwizy8nDD49kwUl+f7IY8ob2zG/H09ubq4nBTUUKxrZ3D0wuRNeLbOXn//vJlLLJ7eq2XcH26G/JtHl2Z5d0eb3uUzVfGU3l3jHhmLuv/QuPQ3rnt/s3RVmj72Cj/5nw/5ou9vDSeXxxEPPgkNX0vJdk9HSlyLgjIjGKVwM6x1OgWRHy+zVeGAFIzT2z/9Boi3Fy82tkI+ZSAJf5YxQV4JbJ7coWst5fHe5uhgOIReG3X+V5AcVYJiaA86jqzkp8A/Mbhlfzct9323tHZ5dXF6cGGkOxMRyWSnO+HlNC+RXroI6x8uOHzbbw0mtH5wYYHesvSXRrGLdraEWQIxLZ2X52JpraPphba3tvdPex/3LdanhTUvFzKfD/O+pPa9mTrxDyBrSNhANF69iKewM6JNLO95JOLy8vzV9swzubunt6J9I9bx7KbDF8CA7qR4ots7hzIzEc7IWTW2cnUZ7sBdEGzEb+/frWpeLaOddPMWrVsIqGNnVcXkOb2+hTMPZGDc8POs/fuq1cbnogxArwX3Q2SOeo5rPf79x988AFWV+z3Dw4O4NWMppzmzmJLm6bGoTTo27GDc113OaiidRgk7E0dQ+PV5dnhFsywbZG6PtpCd9t+dSmMcnW6vx3BiafNI/uoaKtNH7H39WH3/c0ZWmLI6CcDj24vX235MODJPjlzd8OwrSie0NbLcyHGzfnLTQy1u6emSkPjtkjt2z0zpbx+taF4tk/6w8f4gXEYt0N20bXFy8VlgLoCQashynYY2NbH4OGyxQgN+Jsvpa2uz19uxwIevDXN/jVmAL853vaZfV4f280B9P370x2fVYjb6CQGSZe3JySZoQ30e/22PnZizJCvQfdGOHGcmQKLJ7SrD3jvr453AhbumZvWgEnEe8nWFd6/v3q1aVpjGnU2tvfETOUcXUrPdnWICczOqVHJyU5g89B45cvXMThZzXL4nYg8YxrS9GOd6A2eQGzbqe/ciuY38Gq9OIgNzoBGmixvkMDTIaAsT5TrI3gUytbRhCmF6JmYnV5Ygl1iUPFY71cxItgmrzeiULPHiTFdCeyeWmOCnF5Z47p86/i2zTf59fnx2RVqubkWU3jzwmS4n+P9qEszQbwBnKJ629tIPkNtNgAYXDBl03WFeB77jOvq5PDEfJENFIuB7b4QxCBpeQoo9PYMc8jArvQNRP3m37I+qKr0XZpximMc9NlshLLElGLYpZGzELfRcXj4trs0unCw3Y5p2tsTvKJtruwEl0ZvGDYXSA7cVnEuDUPOAzxWg705Bh9M5o2ZnGwa/TnDkIX0Kc5IY3O3vgQ+zqyTrLMpfPt+e5HSWk7eUMmyGcDZN9q9fG07us9SK+Ef2pqxfCHa5oPjXJpRpcZXLVwaZaP/FcKtKNzo/Pfp3ac7Aza6Pjs80r3aYXMNff75558xVv3+++/6few6gz+DrWjWnQn5Bx8vtrSZqrYS32LcsQ1zADPg3RlN3fRSzvfwxYf5BYO0/0bfiZVGcXNp5IjSb/eoH5NhfCWFP0YfXexjaN8yfaOZupscTOwjwMDQNjxuT3Rpxg2MI8BdXRqXAUpvxTZn+kaMbnbh+1VcHWLQHdHLcmnGySnsFOm/OG/Pj14ZfuWgS4PKnEa8sf1rpjaACvQBxxphrs6Ohes5vhGOG2emwNIfmmX9wNh3BGdqWoP2lsOd1UbxDeiGNejPps7pifieRpLpuzSiiH594hVsG4iH34noQWI4dGlI0491Y/uO3kutN61wQ/vaj3QF3iCBJ0ZgmRvPnFarsGlILv/7/f643CHUbVSbd75Esr85LZyIe+7qNdu6pyeeiBuF+YNhn9Lt6huAmrX6OyWu9vd5BePx0F2zZt8fFE2aG9yCibQaRjHeTj2fSkTl8m4wmCq9ueu07ZtdBsSeRjwrQ68HufpHOuR9b68h18f12lTtH3dtozZ/Qo0qf88kkrlSrYk9X+FULtWnMCCF+HAfCO16/bUSSiTCZmneOI7Qv23UxLahRr1xB3r9OAbheBxTF+Maq3hLgI+q/a2DflHu8CVJdHHK5b5X1BLOi60UMPu0RekNI9FXTer9rl7V96RJeUYbhrwNCH5dXj/2DChoUUH9oxeNVul2nLee6UlGy3S3vpHD1awTrdO488XRgMzLLz68qdeFZfXL3mDESbY+zWA4qPTG0wz0DSpS35ldzip97B8zVR2wEIvYDmpcuWvUhJ3u07vjSdX3U15Vs8VqA10qqOYyU8Xp+PHHH1Hjhx9+KHfdvcARGvgz3333HRZbLEWnDxUwTWlj+S3godfbljufjGEuXb276ww1XjR1o20rwWjQGlXbjcYbDBrxsCkFjDLauc2HGAreKmHV7DS4HczUEHALf4w+iqpRObT3+/FM3Q3Nqi8ImrNPadbvF9Vr7MA4PX2XAapVa7wdHB6jEPx1vd4eKbor2jo6suClX1G8/qwPY+XECBZ4/ddkIqNVGti/5E1ksqoxdo3UI24MjXjj+tdsbcCozdN/FYfVdAJta3IjdBlnpsHSH5pRPyYNAeUfA2/+mZpWH1g0ndm4q5eMfZjNcsWbSYf1xzOpE02mbJ3CLN+rtMpit7DeLbG77O7dcLfsi4IeNKYhzTbWufYdr5pJh97VSvoOcbFVPJrh0R+bEfjn0yawRJcGp1Gw8QxhzuxEcNKh3em0tPi7d7pfgqnVnfIO+52Ndy9yZWvevtsiM3v7EUMwSzavXkfMcUXMeutKlbs+L+73E2GnuL1+BXtW1T9XlGy1JSKwdTrVLL6SdL+mEq+ffbAuTOhr2cS/lzo4zK7Xpsc6Nt7o0Xy9cZSNdiq5//kvfxDnHczN4c7i3AOCnIG/MXbnSkjRfNPn6wqbyDmtx+u3vQRtNYjH7naRE9wBskOOnDsRZ92c79prkGac0qWRDWNQNbjQHmvSJmsbbhiGCHYGihcv5XGThGGxh8oca30zr4tZp7DOgKh6HxlwufrPBTuPq4mGtRCfB6XCHGtK9CMUJ1c9oAai2Ek79ZR79e5gpto4ySV61fy//+sf/CISiXWExElL6x6OvsCH0b9+wsoMAgPYT9F88cUXX3/9NRyesWX0H44vDQ6PHl0N/977rM4kSVrFpPof9WChjtFWXDIy8NC3C4PtxzKxbEN++O/WhZbTn2UP1SzHEue+NPoIo41XuZPDtnHN1N0gR3+ARc9EWbO52la14wbGSWhtz10GKKm4OABkXWqxLYZd23vJKAXy39k7m/xKrK/kWDn9yXLj9DDprWt//tc//jOO/rmd9TPqGrTS2P41WxtwNCZuTtEIXcaZabAMNFEwRIOV4B2lmWEkD6ezm8pPpUoLBTVK1WDWDPYzmzp9Qfp/9Ro59d/yzXipoffKVkkdO7KObUizjXVj+k4ik44YPg1+Ua4ez6Rmeec56cl7JLA0Av+0tJoUJZFSfX+r1RvdfNS9j+BkOrY/pSudMnr3bJcXB9kUj1pqV9P9l8CEIrq1cv1dKJvPjBHJXsRM4mHeDB/ONnHoNcqVt75UOWsLhWAv3R/PFKuZYrdVq2j5/F//nPJG4e1NUGHw8VgIbTExiWRrjoXK6QU8F8xIjCJ7A3ONMXaRig6sv4iQY8OXXLQK232mkRTWDYfsw4mn/yyZDKom35FS7OVdk6w/ThJ98jfGOvDQ7OYSLiosMPiaH1fBHM9kZ7PMDecD87A5ihtQA86MtBOmIPfo3ZDCG01plZTWa9crxUL+r39JKuF2uR8az0VOuBnYaaY/xMoM3BtEcLbSYrkGf9vvuBRj3B5fGpaAsLENSeHP6MtB40u7z9NWtfzTXeywkArPbhnZhga+OkbnvnOTAmuZbkuxo4/0r1GEYe91QY5+W8Pogu8tzC4tSrSNQINdY7QyqaPbwDiafMY7UnG/1mxk8f/xl/yqZUBaXUkj1wQ5veFkrpzM9TqNKhp78T+TvSBehtMNcmP7l3xxTN0GXFScoxFOg2VwdUMOlfhy00WWWW4HU1k1++dyuZlVMcHPagbPOdQxa29Wqq8V9aigTinmhIY0y1g3pu8o8Uwm9nWhVOkkg6VmIle+Z/echTHTksCCCCxxlUbxpwrZmFIvauO+KfWryYTnbavZ7ivYaxQzuWmi/8bhM921mi0bm1Y5i/hM7rDw2ht4O2MkxFDYv/qvxm4Lu3i6M4mHHwMIKAO72GxvWVlH17bFrVvL56uycgR6yparhZjSblqhguxCjf17HIRwUo2IQm0qIoBXWpPBwxJqwoOdG33jdJqtt1ZVYxWPYn+Pgt+CscrtNhuj0DvtrhIIm9G7h5QQL2v5bbx+wYqus6ax6js+FGvySrPRV60n5POpqbhj8oe6Oc76k+qcYJ1EKuF517RtM+uKDyF1zBahSTVO+1z4G/1e02s32tPmdE6Hzt8xn/TQHrEXLynsNK5hO5eEb1WLRiw3b1jFtwXalmIv3SXXb7/9hk1l9nBn03svo0VOLE33Z5ARMaOxHDRawgPc6XZHohm61hJOJELKm0Z/RJadx+3CUBBQ2rZRROlUMmquhrZvPuqPPq1G686DAf+ec6Y7uyCterO/61gu2XQx3uhXt9VqDwpsjesY1rFLa+zA6KDqUHaHFPZbuuK24QfuQTWHRZThAQFDfwJtHR25aeVvNZr9kXCsnK1StiTzIYRhWquWUr53zRk647j+NVsbmIDDfDxDI5yERcV77U2zP24o7UbzrRJLuXx1OKWAZjJ/Mpvyva4U86VGIpP0u+SeQR2rhKFv7pzW7fQ20kGT6Bg9yKUhzTbWufcdCCc22yn/jZ+jLbXU7MTvf1x48DYJPAaBZbo0mJVo1XKqW0ymEEu1/7qpl/IYij3iqAKuYEbLxZrFfMUIZ4iTLjmtHbW2eY+h5E9phc1OKWeGde42i9l8I9jfBT6aN6imNjxvKppeGzJo1Xe2VDgwgU3lwu+Aw5Eq1LEdfxbxELcY7lnLmqF5E6mk711NK8nJda9VzlfeWLVhMljSNIQJllenUe+IudzMb/uxEKL54m6wXjAj4yKkai5b7IXlEpU/XchGupVcXoaOhnDgaNtfMk5xbzJf2FD+q6DHoBSBWrW6pZf5R6fVeotDUomRB/KGeGneNcrSc+21K8ZWXue0M9/1p7XCRq+SNxoGYp0WKr1NTUvOTHfmqm0Zxlp/UsETrBPOaNlIu5wr672mW88X6v6dYt6F9qTaZnkeVdXAW0QrFw0XkbJLjVkyO6T1NIs5PUq06PqVbiRXkDsfxjZsh3KEOJ16uaA77PjUbdRbHvtJMudMChZVhrwL/TAMko/ZGKZvRfv222+HSp2yNGxOQ159/QclOJam/2SnVb7949CjYc2iyWRE+UepoEfE7tYBZfpvDBL5wpbvp4JllEJB/+ZluBL52avmtS1vrWDGWEdg2UI9LL0W81FBD7/ea2Hcb8cK2r1/tcvTrWn65qpuQ8uVXod2C5mwLhWOcXhe1/RthohWW24O9HR82+3DUSKMNe1yJqXBtRg3MI7oOZp9JMnADa9aKG4rlULB+M4HY2s2V/XHnQb3cKawG3gt3mGiP2GkwovQVtg4OTvNqqZVxACKC18GtHoB1XYmdUAkhw9j+9dMbcChcHFrnkY4AUsc77VQQzN/9qwthvrIXjETdRFlxtv+ZCYVePO3b5pqpj/Bn0cdo/54KhkQ3/Hq7aJdLRR/skuGE20e7DVDQ2gW0+lSCz3IvSHNOtYJRrLekb6De9hsl/D89Nev26nsEt4gM1qDyUlgHIHlhyu4vTx5ubsZCwWMK7Kxtfvy6Nweduzm/NXuZiQUiuCKbe7KkK64ro+3QwHsAVc8CPSK4J+Xh5shn5h1+wKhbSNuzu3F0d6WkRWxng/P9CA+t6d7yIq0Hl8gENqxR3K9Pj3YivhwPxLZ2D44QIxaRDgMIbSirBPxIGPIEQlFEC/UCE7iIp4DShFZayAEJIKayrCcqAF677/cRegpaIP4qgiPKrlEYrFYBNVt7Lw0Q0sPFDwHBL2c67OXOxuoQMLd2j82QkjKhwYLAWNz//hYhDqCpDEzOvI4xU3FYIuN3aOTl4g4g2IQV9OIs4QQXD57NLoRWgjECjsgi7D4uQigLPJvvbqy2y6yf3Z7fYRmIMxumOn8AI3J+AyQto92U4uGgTYltEYgb0ttt4YhSjHbFsLd2psaQmBfHm7pTyECJBzSxa1MRBpytf40Zp1oncNd3bChSGz7QAbUFjYd6jUI4230BNHsBuDagmgbKgm9TbbCFIg/a3ajvmkRbBkdEW0mtrV3fCZCpQvLgdpMVaNoWVVINLzNCKrx+CJbBwOdYNbejRBne1voTqJPhYTZTSgjrU/ewA9r6mMlNpvhQqQyPR02nuE+llDgclg5ccdeCjaq6bmsm9OXhoqQfXxpeAoB4GtZyewfhx7Zi9L/1iOry2Eutrnz8gDx8OSwiVDCQ039FkG7rQZi9Pzbi1e7Gxi1RO9EDPxDEfvPNugOVYeRbH8rZg7fAyOM7VEoIvq5MaTO3N30GGbH5yLUvBAstLk3MJJh4N7bCIhGiUH95BSh/4XEGD6krNAHkajFsB5DbGpjhBo3MA5qOJR90gAla7w6Odg2mAiRTq8Gi7R9Mk0l3gto/0eIuyhMZb6R3rvJidF5f3vDbOyRzT0jup/56hOFbCFisPurEFwc355SuKnbgK3Xg7B9THFvhFOMMxOxnJrvNfHyNF/8CNg4x0jet4qIAWiPwyqJyF8rcOpTNnXwOnyphzQVPyWA0VSfwARCe6d2qBiyt/YO94y35p4e2hOvC2QQk4+NXfOXH1wb0nRjnSmCb+cI8x7xjnPoOxBMRsyMWLHD+yD4Fwk8aQIvIN04j4fP5iTQLqmJUrKGyG5LXRGYU+qFZ+/hRxmTjWwDP4O38LJZIAk8AgFEQhsdPBEzAOEEZpIG6zPYnKZ7TVio+fLLL63s9yhtpqpXODGOA/4PLX7aLSdXWAmKTgJPlUAzH80Ga41c+KkKSLlIwInAcjeeOUnwzO+Fs9VyopLJTHMW6Nmi6FQzmVqiXKU/82xNvE6Kff755x9//DE0hldj7UnDxyGHZBokOLSD0hBCTY8Wbc9yj9KmqZFpSIAESGACgWalFrSiVU9Iy8ck8HQILDPi2dPReqmS+JOlRrQm9o8Hl1rvE6qs60Uw3eQ9oi09IR0oCgkYBKwdZXYi+mKLpmkzYcJeNcdVnfuVNlPVTEwCJEACAwQaOewpqZcT9WI1nG2s7YSFrWJ1CTjsnVhdZSg5CZAACZDA8yaAn3hRtebbd3c4HRNOV+SvefAiARKYm0CzmEgWEIcgrGrVihlrY+5SWQAJLI0AXZqloWZFJEACJEACJEACJEACJEACiyfAszSLZ8oSSYAESIAESIAESIAESIAElkaALs3SULMiEiABEiABEiABEiABEiCBxROgS7N4piyRBEiABEiABEiABEiABEhgaQTo0iwNNSsiARIgARIgARIgARIgARJYPAG6NItnyhJJgARIgARIgARIgARIgASWRoAuzdJQsyISIAESIAESIAESIAESIIHFE6BLs3imLJEESIAESIAESIAESIAESGBpBOjSLA01KyIBEiABEiABEiABEiABElg8Abo0i2fKEkmABEiABEiABEiABEiABJZGgC7N0lCzIhIgARIgARIgARIgARIggcUToEuzeKYskQRIgARIgARIgARIgARIYGkE6NIsDTUrIgESIAESIAESIAESIAESWDwBujSLZ8oSSYAESIAESIAESIAESIAElkaALs3SULMiEiABEiABEiABEiABEiCBxROgS7N4piyRBEiABEiABEiABEiABEhgaQTo0iwNNSsiARIgARIgARIgARIgARJYPAG6NItnyhJJgARIgARIgARIgARIgASWRoAuzdJQsyISIAESIAESIAESIAESIIHFE6BLs3imLJEESIAESIAESIAESIAESGBpBOjSLA01KyIBEiABEiABEiABEiABElg8Abo0i2fKEkmABEiABEiABEiABEiABJZGgC7N0lCzIhIgARIgARIgARIgARIggcUToEuzeKYskQRIgARIgARIgARIgARIYGkE6NIsDTUrIgESIAESIAESIAESIAESWDwBujSLZ8oSSYAESIAESIAESIAESIAElkaALs3SULMiEiABEiABEiABEiABEiCBxROgS7N4piyRBEiABEiABEiABEiABEhgaQTo0iwNNSsiARIgARIgARIgARIgARJYPAG6NItnyhJJgARIgARIgARIgARIgASWRoAuzdJQsyISIAESIAESIAESIAESIIHFE6BLs3imLJEESIAESIAESIAESIAESGBpBOjSLA01KyIBEiABEiABEiABEiABElg8Abo0i2fKEkmABEiABEjgyRK4ubl5srJRMBIgARK4HwG6NPfjxlwkQAIkQAIksGIEvvjii6+//vrDDz9cMbkpLgmQAAlMIvDi/fv3k9LwOQmQAAmQAAmQwDMh8OIFX/3PxJRUgwRIwCLAVRo2BhIgARIgARIgASWfz//222/3BoH1n3vnZUYSIAESmJMAXZo5ATI7CZAACZDAOhLAJi4sd+D6+OOPv//+eyCAP4C/cefzzz/X7zwEFxSu16LXbv2Lm/NUB4fkI3lZhezt7X366ae6OpamcHvcjuJ8+eWXeDqPDMxLAiRAAvcmQJfm3uiYkQRIgARIYH0JfPfdd7///jv0/5O88Af8gc8++4a8vxYAACAASURBVOznn3/+4Ycf9DsPQQeFw3n44IMPsG/cunDzk08+QXW6EzLk7eDmeEngjMEHQ7H2ZN988w20gFIoXK/o119/RS1wdRxLg0hI/OOPPzo+5U0SIAESeFACdGkeFC8LJwESIAESeLYEMImHG2AtyOhege5aPKjOv/zyy5DLBFdKX2CBQ2V3dfS/cXO8PN9++y1KGE2Diobu4+OYBSjQQFGj5fAOCZAACTw0Abo0D02Y5ZMACZAACTxbApjE60scmOjDqViCPwOUWAmxKrJOv0yzLqRvWkMJWMaxL6dAeEfJ7RXpJsT+NEfnxzIwIIzxeZ5tO6BiJEACj02ALs1jW4D1kwAJkAAJrCwBeAKY4usnTBy9goVrhpUTnGbRHRj8Ya2KTFM7tpBh85i+dGP3TOAX2U/R6DLbK8IdpNHjB2DH3Rilxi/jjMnIRyRAAiQwDwG6NPPQY14SIAESIIF1J4BJPKb749cuRhnhx2GGTrzYP445/aKvrujZ8S82v40Wfo87ox6RvSLIhiM08KPgz4yvEeXAF7qHAMxCAiRAAvMQoEszDz3mJQESIAESWGsCmL5jfQOzfMczJPpPWzoCQmiB0UMv1p0xp1/0gzR6SjgYs7pSjsI43rRXBGnhqwztKHPUDijmiQTtKAlvkgAJkMBEAnRpJiJiAhIgARIgARJwIIBJP5YysHahH4sfjW4Ml+Pg4MAh5xy3hs63jK6uzFH2QFZ7RXBUoObQ8stDaLco4VkOCZDAuhGgS7NuFqe+JEACJEACCyCA+T1WLXSPBS4N/JmhRQycxR+zf+x+G8/08y3Wysw0IQHupypWWqCRfQlo6Ddnxmj3cF7W/XRhLhIggXUg8E/roCR1JAESIAESIIEFEtD9GU3T9DKx9wxeDaKBWT/tAvcGixjwW+AYOB4+0X/TZlaRsHKC0hbuM4wWiIqGArjhju7h6J6bm3ZWsllVY3oSIAESmIcAV2nmoce8JEACJEAC60UAU3YclMcaBRwYayMWDtLgb6xs4Bi9vpqB9RN8xL+O/sw9kMGR0AtHgY6HWO5RppUFZUIv/SP+0IMBwBmDS2bpCF3wSF93GqMd0j/c2tE8OjIvCZDA8ybwAkcMn7eG1I4ESIAESIAElk8Ano++rPH0p/hww/SFpukpuWmHoqzFq+lLY0oSIAESmJMAV2nmBMjsJEACJEACJOBAAOsVmPc7PHh6t7Bfbtbfx3TUjrvOnp5tKREJrAsBrtKsi6WpJwmQAAmQAAm4EcA+OpyomSckNDaqoRAu0bgR5n0SIIEHJcBVmgfFy8JJgARIgARIYAUIIHQb1ljm+UkZHCiiP7MClqaIJPBMCXCV5pkalmqRAAmQAAmQAAmQAAmQwHoQ4CrNetiZWpIACZAACZAACZAACZDAMyVAl+aZGpZqkQAJkAAJkAAJkAAJkMB6EKBLsx52ppYkQAIkQAIkQAIkQAIk8EwJ0KV5poalWiRAAiRAAiRAAiRAAiSwHgTo0qyHnaklCZAACZAACZAACZAACTxTAnRpnqlhqRYJkAAJkAAJkAAJkAAJrAcBujTrYWdqSQIkQAIkQAIkQAIkQALPlABdmmdqWKpFAiRAAiRAAiRAAiRAAutBgC7NetiZWpIACZAACZAACZAACZDAMyVAl+aZGpZqkQAJkAAJkAAJkAAJkMB6EKBLsx52ppYkQAIkQAIkQAIkQAIk8EwJ0KV5poalWiRAAiRAAiRAAiRAAiSwHgTo0qyHnaklCZAACZAACZAACZAACTxTAnRpnqlhqRYJkAAJkAAJkAAJkAAJrAcBujTrYWdqSQIkQAIkQAIkQAIkQALPlABdmmdqWKpFAiRAAiRAAiRAAiRAAutBgC7NetiZWpIACZAACZAACZAACZDAMyVAl+aZGpZqkQAJkAAJkAAJkAAJkMB6EKBLsx52ppYkQAIkQAIkQAIkQAIk8EwJ0KV5poalWiRAAiRAAiRAAiRAAiSwHgTo0qyHnaklCZAACZAACZAACZAACTxTAnRpnqlhqRYJkAAJkAAJkAAJkAAJrAcBujTrYWdqSQIkQAIkQAIkQAIkQALPlABdmmdqWKpFAiRAAiRAAiRAAiRAAutBgC7NetiZWpIACZAACZAACZAACZDAMyVAl+aZGpZqkQAJkAAJkAAJkAAJkMB6EKBLsx52ppYkQAIkQAIkQAIkQAIk8EwJ0KV5poalWiRAAiRAAiRAAiRAAiSwHgTo0qyHnaklCZAACZAACZAACZAACTxTAnRpnqlhqRYJkAAJkAAJkAAJkAAJrAcBujTrYWdqSQIkQAIkQAIkQAIkQALPlABdmmdqWKpFAiRAAiRAAiRAAiRAAutBgC7NetiZWpIACZAACZAACZAACZDAMyVAl+aZGpZqkQAJkAAJkAAJkAAJkMB6EKBLsx52ppYkQAIkQAIkQAIkQAIk8EwJ0KV5poalWiRAAiRAAiRAAiRAAiSwHgTo0qyHnaklCZAACZAACZAACZAACTxTAnRpnqlhqRYJkAAJkAAJkAAJkAAJrAeBFXdpWkU1HPS/eOFN1565vdqVrBoNR6PRcDieLrefubb3Va9XzaA9eF+8SBSnQNTUEuEgEgezjftWOFu+2cSbrWymJgESIAESIAESIIG1JbBEl6ZTTunTzRdefzCcKnfuAb1TL2nFWtvKGc3V241C7B4lrVaWdjGdqQS1ZqvVamrhVvM+7FZG41ZV0yrNnl3ephb3R3ONgXtO+nhT5Tbamcfp2ei9eL7RruVC96lIcRBytAJxp1NNB4NJ3QmdTTyn8tq1olaqd22P7OU75eA9EiABEiABEiABEnj2BJbo0gQz1XankvYpvnSl065mgveA26kVv9Kq7XvkXOksvUa9eRdXE35o4U9XG8XESqszXvhes1z4qtSwT9sVrz8cDoa93vE5F/B02oqchHSu3usNQnb/gkRvV7SvijW7R7vY8p114F0SIAESIAESIAESeNIE/ulJS0fhdAK9Xu9O8Voz+gVNj1eIbjRbbWaXIe/iK/Ini43kA4r+0OU/oOgsmgRIgARIgARIgAQWQ2CJqzSjArfy0Rfi8qarrUo2EcSk3R9NFQf3HFnZxMY1tfhaeVtOBcWFTWe2InuuJXSbZfMYSjSeytu2rY1K1Klr6QSOrMTj8WhcTecrTX2xoNsoZVMJ3I3jNEtUzZbtMnYbRWSKikzxuJrRqi1rg1RHPpJHYKKJdLE+ZsNYr13Np2TxSKtmSkbNSqeSCktV67kotA6nqwPrF6YO7Rpyh/WarNw4LCLOioBwUC21lXYpKQ6aYCUiXemK4sSpk3CuUsklxd+An8wPrABgLSKbjItCo+F4MlcxFZvGcC7YOyVV2vxFstys5dSwqDaczJt7qSBVOFu7U/47Hxc2DidL7V7NOB8T11q6thArp1sjLrhmhpZ0Rs06cAekklFRbTCe0uqd/ma20YoUtKpcUhhFmDaRypWkBR2ErGeDUqtwrtYsZwzqce3/FtWgsMDoWS9YG9DR4oPxdNFYkjLsg7M9MDeuBiDYDga1YM1U5a3yupiQHSCBjYhO5btYbQL5CdT4mARIgARIgARIgASeMIH3y71Od7HxbPfUqPTm+ursIKZ4Ihs7+8fnl5cXJ3sxjxI5uHAT6uIgogT2zgYeXx2OK+HycMPj2Ti4uBV5rk92Q57Q3tmNY/k3p+Lp7sm1fHpz8XLDY4p6vh+JHZzr2W6vjrYDgZ0To5Cb420fPumZbi8ON30bh1eyhFvk8vi2Xl2KumUuT8wQRD63X/rTfV2y28tXWz5P7KUuNJLdHG0pytaRs9jiOSRXAjvHUggpg2/z1aVevgCgmDpfvdrc2D+XLMR1vhdQPL7I9qsLFH17fbof83giB+Zz5PT5Ngwpbs4PgGPz1ZXMONFw7thvb64goKKEYtt7R2eXVxenBxs+YVRTqtvjbY+y+UoHqsv5/v3pjk+JvTRVehmL7J4aCa6hu2/zSJdLJj/Z8SimDcz85v+lTTyx/dNrVHdz8WpnIyQqP7fSDVSE5gYzSPuh8YiKzKY7LOQtiKBxKb7IxvaeaMrnh1sBXWDZPndOrRqEeIHQ5t6xKPf26hi5PBuHhmrvh1v4CWDYlDnbDaB/mIllmUPlu1ttInlLRP5BAiRAAiRAAiRAAitFQFmytIMuDSoXEzIltG/OKW+OMNsdns/2ZRye8Ikn40oQ/oYS2D01p8vvr19tignklYPaomyPverbk53I7plMeXt9fWOVISbYHs/Wse5hnO+HlMi+5YTdnh+90h2Tq1fCl+g/eX8pKtg2sg0IcHsG38K3bXpJeHaxj7RbR8a0fYJLIyS3z3tlcYFd00nQnRr4AJeHmzGbQ6O7NMpG33u4FTNmQ0QdXd/TeH97ioe+HZPlHNilOv2SwNln82OHvQVJasDTgEclPBLzggUGTDrGpUHN8CcsMmg8rzYUV5dGpLbsjNquTg5PDG/CSUjREvp+1/vL0xPhKQ67HNLjsjcDgBYyGVyHW/iMLs0Eq40n30fKv0iABEiABEiABEhglQg86sYzc/HKE0/Ejb8RC82ndLuOe6vGrHW5ldCs1d8pOFdvnT4JxuOhu2Zt8PC5LLhdr79W8LgftcCbqrTKqnzo9bbFDqSw3PATDKard3edji5kNJkIvP5rMpHRKo12T/EmMllVHOPvNqrNO18iGZUFiCuciHvu6rWGdcP6o1Wrv1XCalzk06+oGpVpJ8b4QnIpeSiRCJuZvfFEVHnbqBn7tKK5srbR+Vs6nizHS1qfhZ48YFPZG1fjyl2j1sQjHV0ibqGTpb6rV8VD45oHe1Q1i/bi9DxsPo2qRr3eTj2fSoh9eOJKld7cddpj9vT1BW7UG3doD32lwvF4oP946C9/Qo0qf88kkrlSrYkdauFULtU3p2O2gICkX9FkymbQwdTRRP+RrOVto25Yy7HYqW9OY7V5yE8tCBOSAAmQAAmQAAmQwPIIPAmXBgGt+hPn++nuXEKvIybK+iEUc/5b7vq8uD9STVfc82Ny7XC1ikn1P+rBQr3dkZeI26b09Dm4P1lunB4mvXXtz//6x3/un4zodbt3yjvxOynmhUMiXmd/rdvBhBzHO/pVe/1AcifFn3hJyd8YJ4xkZdF80+eThepXNFfKRd697cWTUVsd+jMbOcjg93qER9lTJDoPxOhX7/f75UObQHNgt6srNZ9GVVk1DlWpf64o2WpLt0Y1OxCH2Sbe8J+wybBSA+oPp4/m642jbLRTyf3Pf/mDP6z2TxMNpzQ/jy2un6kf6gH3cKwHHvDMbryTCFNZ7f7knarkPRIgARIgARIgARJ4dALPO+KZVwTP9eBkfDU9MpUfRi+9GXPpZfBhq1r+6S52WEiFHUvxhpO5cjLX6zSqxUK++J/JXlBU6A9iPxHiVRsLPcP12T/7g0FMag0fST7QJ9/Txf6VkkeytZYWd6mk1yjXvBuR7t+y+UyrpA5o0bO7TZjy38GvATWJ7g5iwM8xSsWsWz50qaR/exbsEwsbSdCtlevvQtAkOlmSocy6ozig1ID6I3Up/nimWM0Uu61aRcvn//rnlDfqjnk0u9sdhLDrP+r1BGQ71/5Dezq3wmz357HaFMUzCQmQAAmQAAmQAAk8SQJPY5VmNjT6hK/TrE/+xcl4SvXdtZotWwWtcjZTtt8wnoVVNaJ0mrYye4jIlalYSx39MrpdW5ysVilbaopn3mAirVVLKd+7ZqONOaqaTHjetpr407x6jWImV3UoMJpUA9g/ZgY5Q/pWo3XnQQmOPlS/RPlXOAnJ280WJsbm1UXkNs2MItZr5HPNTKVexfazbzK5+uByCES0JOqBqeKJJ4VrFE+qPqXZ6Id26zUbLcWnpsTDCdcM2B1K6i/ZdFv1ul0tmRji39lzwUOxae5Qnu1WQk14FChpIeg0W29ds3Rr+bweXw6x4LLlKn7TFZj1vBOEdC1Tf9Bu9NXqij1nAbH7TFzCP5XLZPqFtjugrCIbhHjaayPfiOLzWM2okv8jARIgARIgARIggVUjsGIuTTAa9GBDFWZyzWI6XXLwTAYN4E9phc1OKWcGhu42i9l8IxgPO9gpni/uBhta3vA5uo18vuJPqkFFiSaTEeUfpYIe4LhbL2j1/jyz0xQ/dm94BfAJWr2AKg/QBDNaLtYs5is4YSMunP/Iae2o7bCOJYRXzWtb3lqhoHshvVYpX2rHCloalU9xRYXk9YIZgBnhoHPZYi+sr2JIhyZdykW9+pmaYafG1y7ny3KeLgSsdCO5QsqPT/60VtjoVfIGOkSqLlR6m5qWnMLLmgX7iH5e7JxTuuJsDFyKVGHIAwNXNbXheVPRdK6wqFZ9N1KIyw1/upCNdCu5vAzG3GuV0TI8Lmml11DSNNPR7DTqHeHuSf0nCelapv6gB2tVRbsQtsr/l7KRzxtcw4lE6K5Rlo2w166UaoNeSzAcxFIiPGqUkMqW28P1zGO14bL4mQRIgARIgARIgARWhcDyYhlcH22HAj4xgfT4AqFtRPO6PhZ35I2QCBaMiFwhmcB47iDbzdnLzVAgFAlFNnaPr6Yq4fbiaG8rEgpFxLWxc3g2GB54oJLr05c7GyhcXJu7MraxvG4vj/eEbL5AJLa58/IAcbOkkAibfHP+an97IxKJxWKiks29Iyv2MsIEn7/a3TTqjtkLHFXt9upkfysmxUQpu6+MkNFQcUfHhsoDAtNoVnHn+qwveWxrX0YIfn9zsiOAAq/AfYOSDP6hHRl4TQRxDu2fnr3cjuEJwjlvHZixkWUtAh3EFzRCVqGisikM54L99nTPUieyf3YrW4VsFAhsbIQyvjreiUFXVLz1EhjMHIL4lkxyfXqwFZHWQMzkg4MdnKXRs98ikLLexkRaI+K0VKV/GZlF7s3942MRpgyZEQpupCKY5OXuZkyaVrS4nZc2OoNCiqZrqGE3krytt/BAaO/UEm/j5cnR7oYQ1ROIbR+atpZC3py/hHKQXzSY8yOEQxP9xVTm+nQP+QSbTUSiHipfV9LFatOQHwDFDyRAAiRAAiRAAiSwIgReQM5V8b4o56IJNLLBf61lLtquh3AWXSHLIwESIAESIAESIAESIIFFE1ixjWeLVp/lkQAJkAAJkAAJkAAJkAAJrDYBujSrbT9KTwIkQAIkQAIkQAIkQAJrToAuzbo2APFrPcnyW+VNUQ0mtOa6YqDeJEACJEACJEACJEACq06AZ2lW3YKUnwRIgARIgARIgARIgATWmgBXadba/FSeBEiABEiABEiABEiABFadAF2aVbcg5ScBEiABEiABEiABEiCBtSZAl2atzU/lSYAESIAESIAESIAESGDVCdClWXULUn4SIAESIAESIAESIAESWGsCdGnW2vxUngRIgARIgARIgARIgARWnQBdmlW3IOUnARIgARIgARIgARIggbUmQJdmrc1P5UmABEiABEiABEiABEhg1QnQpVl1C1J+EiABEiABEiABEiABElhrAnRp1tr8VJ4ESIAESIAESIAESIAEVp0AXZpVtyDlJwESIAESIAESIAESIIG1JkCXZq3NT+VJgARIgARIgARIgARIYNUJ0KVZdQtSfhIgARIgARIgARIgARJYawJ0adba/FSeBEiABEiABEiABEiABFadAF2aVbcg5ScBEiABEiABEiABEiCBtSZAl2atzU/lSYAESIAESIAESIAESGDVCdClWXULUn4SIAESIAESIAESIAESWGsCdGnW2vxUngRIgARIgARIgARIgARWnQBdmlW3IOUnARIgARIgARIgARIggbUmQJdmrc1P5UmABEiABEiABEiABEhg1QnQpVl1C1J+EiABEiCBZ07gxx9//PTTT5+5klSPBEiABOYgQJdmDnjMSgIkQAIkQAIPSSCfz3/44YfffvvtL7/88pD1sGwSIAESWG0CL96/f7/aGlB6EiABEiABEnjuBF684Pv6uduY+pEACcxBgKs0c8BjVhIgARIgARIgARIgARIggccmQJfmsS3A+kmABEiABEiABEiABEiABOYgQJdmDnjMSgIkQAIkQAIkQAIkQAIk8NgE6NI8tgVYPwmQAAmQAAmQAAmQAAmQwBwE6NLMAY9ZSYAESIAESOBeBBCUGSf+Ha+PP/74XkUyEwmQAAmsLwFGUFlf21NzEiABEiCBVSHAiGerYinKSQIk8CgEuErzKNhZKQmQAAmQAAk8AgH80M1vv/32CBW7VPn111+7POFtEiABEpiBAF2aGWAxKQmQAAmQwPMj8MUXX+gbwLDj6/vvv4eCmPTjb9z8/PPP9TuPpTU8EF02CKDLY5fEejSlePAfPpKXlf7HH3/EFrgps0+ZbG9vT99WB3oWWChyc3MzWsKXX36JR6P3eYcESIAEZiJAl2YmXExMAiRAAiTw3Ah89913v//+O7T6k7zwByb9n3322c8///zDDz/odx5LZ03T8IvY1gV57JJAcsg5pWzw0+CewYXQ08OR+PDDD7/99ttffvllyhKmTPbNN98AGhhCWl3yX3/99ZNPPoGrM1rCBx98gJTwrEYf8Q4JkAAJTE+AZ2mmZ8WUJEACJEACz5YAJtyYWGPyDQ0x9cc8G7PwJ66tvr4Bt2caOd0SP8QpHSx8wVeBb2MJhiUaeFDwcBxFRXq4Z46PeJMESIAEpiHAVZppKDENCZAACZDAMyeA5Qt9HWNV/BnYAz7Y9Ks00GtpThoEG6oLe97GiAoH8nE3+D3zxk31SGANCNClWQMjU0USIAESIIFJBDAFx5xbP/KxtKn/JKHGPce6B/aM2f0EnGDBSgjcCX1TGZZf7MdU4LDZT9GMK3q+Z5AKslkb9lAvxMC/Y9ZhoAVdmvmoMzcJrDsBujTr3gKoPwmQAAmQgE4AE2vMvMcsJjiCghehH4J3/Hfhh+8tGYaWaOASYKMX1pqwgw6uC04H4RqKJ7YcV00/GGNhgTxwb+DPYCuaI0DchGALP9LjVhfvkwAJPEsCdGmepVmpFAmQAAmQwGwEMKWGJ4BpN07Mz5QTnoP9BP/Q34gxMFNp0yeGwHYXRT/8A5fs4OBAjwGwtGWZIZkhGHwYnQPgQMiJKzDADmmn150pSYAESGCIAF0aNgkSIAESIIF1J4BZONYWMBGHMwCXZjTcMM6vL/AXVBzXc6a/qVtraJVGd2/sN+FIzBmuTY/F7CgYgly7NRr7QRr4KpBhaAVmsTDdxOB9EiCBtSLAiGdrZW4qSwIkQAIkMEwAE27M/vW4YVgrwGRd38E1nM7lM3ZYjbpAVlp4Gg+xUGMFELMvxUAReAt60DYIAEX07V76ERq3yGZu913UnXBbBwiVrRUk/DoN8gyFnx4tBe7TQ4AarYh3SIAEniUBrtI8S7NSKRIgARIggakI2P0ZZMDsHws1QwsymJSPORLzKBvP9G1ycGzs2+TsSzRwLXDZN30t7SDNUPxr/WgN2OrbzxxhDq04TWU5JiIBEiABGwG6NGwOJEACJEAC60gA02icXMcMGw6MtTNK/+lJOANWuDBMxLHWgQRjlmKWj09feME6jH1rGYS0/Bbdr0ACK9oB9oBZ3gUERhQyfUcZ/sYf+lrKPIqgcJQDpPoKkoUUEuKR7hO6wUTiOffIzSM585IACTwDAtx49gyMSBVIgARIgAQekAAm3HB7xsQgXmDdcAnge0z565kz1QsfRl+DminXwhM7woRsD6HywoVngSRAAk+WAF2aJ2saCkYCJEACJPAkCMDN0Nc6lrCSoC9x2M+iLAoBlp6gyMQzLYuqzq2cUZj62tGssbPdyud9EiCB9STAjWfraXdqTQIkQAIkMC0BLCxgIj5t6vnS6SHCJkY9vkclWKKB22Dfe3aPQubPMgQTLhwP0sxPlSWQAAlwlYZtgARIgARIgASeEAH4M9iIZQUuW6xkKBnxD/SjOIst+X6lYUcffkjnfnmZiwRIgAQsAnRp2BhIgARIgARI4GkRQGBoHN3hXqynZRVKQwIk8IQJcOPZEzYORSMBEiABElhLAji08xB7z9aSJZUmARJYCwJ0adbCzFSSBEiABEhgVQjoAaPp0qyKvSgnCZDAUyBAl+YpWIEykAAJkAAJkIAgAH8Gv42DXWeIE0Cvhm2CBEiABKYkQJdmSlBMRgIkQAIkQAIPSwD+jPULLdx79rCsWToJkMDzIsDwAM/LntSGBEiABEhgNQnAn/niiy/wizRYn4EG+Pjpp5/+/vvv+sfV1IlSkwAJkMCSCHCVZkmgWQ0JkAAJkAAJjCEAf0bfb6an+eSTTxDxDJvQxmThIxIgARIgAZ0AV2nYEkiABEiABEiABEiABEiABFaYAFdpVth4FJ0ESIAESIAESIAESIAESIAuDdsACZAACZAACZAACZAACZDAChOgS7PCxqPoJEACJEACJEACJEACJEACdGnYBkiABEiABEiABEiABEiABFaYAF2aFTYeRScBEiABEiABEiABEiABEqBLwzZAAiRAAiRAAiRAAiRAAiSwwgTo0qyw8Sg6CZAACZAACZAACZAACZAAXRq2ARIgARIgARIgARIgARIggRUmQJdmhY1H0UmABEiABEiABEiABEiABOjSsA2QAAmQAAmQAAmQAAmQAAmsMAG6NCtsPIpOAiRAAiRAAiRAAiRAAiRAl4ZtgARIgARIgARIgARIgARIYIUJ0KVZYeNRdBIgARIgARIgARIgARIgAbo0bAMkQAIkQAIkQAIkQAIkQAIrTIAuzQobj6KTAAmQAAmQAAmQAAmQAAnQpWEbIAESIAESIAESIAESIAESWGECdGlW2HgUnQRIgARIgARIgARIgARIgC4N2wAJkAAJkAAJkAAJkAAJkMAKE6BLs8LGo+gkQAIkQAIkQAIkQAIkQAJ0adgGSIAESIAESIAESIAESIAEVpgAXZoVNh5FJwESIAESIAESIAESIAESoEvDNkACJEACJEACZ05gPQAAIABJREFUJEACJEACJLDCBOjSrLDxKDoJkAAJkAAJkAAJkAAJkABdGrYBEiABEiABEiABEiABEiCBFSZAl2aFjUfRSYAESIAESIAESIAESIAE6NKwDZAACZAACZAACZAACZAACawwAbo0K2w8ik4CJEACJEACJEACJEACJECXhm2ABEiABEiABEiABEiABEhghQnQpVlh41F0EiABEiABEiABEiABEiABujRsAyRAAiRAAiRAAiRAAiRAAitMgC7NChuPopMACZAACZAACZAACZAACdClYRsgARIgARIgARIgARIgARJYYQJ0aVbYeBSdBEiABEiABEiABEiABEiALg3bAAmQAAmQAAmQAAmQAAmQwAoToEuzwsaj6CRAAiRAAiRAAiRAAiRAAnRp2AZIgARIgARIgARIgARIgARWmABdmhU2HkUnARIgARIgARIgARIgARKgS8M2QAIkQAIkQAIkQAIkQAIksMIElu7StCtZNRqORqPhcDxdbj95dL12TUuGvf5M/cmLuhwBO5V0OOj3vniRLHeXUyNrGSLQqeWT6D+yDyWLzYfl08jFw0GYO5yfs6KmlpAFBbONh5XYLH1hkt9H3HouKntJXGvdJ/vceZZOe26JJxfQq2b0oSdRbE9O/WRSdJtlrTKHwN1mKRX2epOVgfG2Vy9ptTlKfTJ4KAgJkAAJLIrAkl2adjGdqQS1ZqvVamrhVrOzED26eNX5H+A112kU04lkvtx4cxdNRGcRtddpVLRMMhGPx6PRYDCqZkqNGRyATr2US8vc8WgY2ZPZSqs3S/0PmDaYrrRbRfUBa1hq0b16Fm3nkeadU2na1OL+aK5h2b9byaaLvVyjjU5Uircbi+lDrqIkis12NRNwfT71g3i+0a7lQvb0w6q5ldWuFbVSfYoONGDNuSVHN9SK95w2qsUWnH+fm0YPft+B9oPX+dAVeFPldqec8jx0PYssv1vLqul6VA1bhcJDySTkt3rReDJfbY8d2Dt1LRlPlVrdu7shqbyJhKIlk6Un82JYJDWWRQIkQAL3IbBcl6bXqDfv4mrCD1H96WqjmLiPzCN5ut2eH6UGRx7MdaNX1QrtdKVRiCtKIB6dpXT4WGq2Fs1Xm014b+1Gzlv9j2SmMu3ks1XO5Wr+bKUhsrdbFbX1zZ/Txcf5tncuhKuQ2RsOw2v0Pl1RvX4IiG9pTQmbtca7cEIV7dGbLDcryacr+iTJhlVzS9+uaF8Va9N0n4Vas1MrfqVV225S8T4JTCDQqWQyNbVcSllvj1YxqRY62Rq+j2g1itFaWs1U3X11rO+00tVmuZ+/X6E3nq/ke/lUoTnWKZogIR+TAAmQwPMhsGSXpte7U7zW7GxR88hwptKsa4lFFWdY15sq1oqpaKfVeqdE49FZbN5qtBNaOS+nnZh4htPphPKuUZvWKekq0UK5iM0GMrs/kYx7lE57mhndLEI+k7R7e3uffvrpixcvPv/8c/yL6+OPP87n8zc3N9No6E3k602s8k2T9nHSRLPVZj0Hv9q4er2e4hVfCshrwY3eLHY5/x9Wbe5an74151aRBawOgYaWrwVzuf6bqVvNF34K54oZObb7Va2Q6v6fvNZ0Uymer5UzcauzDycLpvPJTilf5athmAw/kwAJrCWB5bk0nUoqHM3VFUXsMg8Gw2njyyksraf1dfhwNJEu1o3huZ4NyvlpOFdrljMJsQnfaWM69iGExZZ1b6ryMN9V9VqNlhKIxmdZpFESxRb2M/UbVLcLrYJTL/Qk8PVb/zXYa9SadwE12Z/UPkBLbZeSErHXH4znGrKCRjbsVUu6OXAsQZwM8GLXme0rRewjUkEf37Un8wPbgnqtSi4ZF6c9ojjtkTN3zfWqKWlGHDBoNIqpuG5UtSzrwI5z85RVNJ7KT73f55tvvvnTn/700Ucf/fDDD+/l9euvv37yySdwdSZyEm1y6FxQD61NFXtCxKWm8+Wm43eovVY1n1ZlIuwhSaQ0s92O1ImGIKswUHZRpfhoHs6ytfNGKQ0kXm8wnikb20l6NeP0gH4kQ35MV98p/ygkRB9Kltqyvm6jBKEl7gF2zp3ofxVUaQWchmoaFgwmMsJIHfMjjrk5bmixNZNwpip6HM5syJbhx06nEd1xoy3O/Yg2EowLSP1OOqSayIszQils1JTsE8msflSghQpSlbfK66JQORhMYALootf/HrGmLlEPYwxam5Aimswbqz1deSZMjBxSDwWbKaWdovqZITGwqMXXylt8Qy4uOXSJy6Vtm8+yRo9IpMdtNe2UbCaQgETfS1dRfLOcS8ktp7Jh2TastvJRaTUka1WyGBGFOqniwHf0rrR12adpJ3ojBCgNXbrXND6GVZObXlL/X3unBmZp63Aiay5uNfOyfQCr/oVOTe8OOBmiUx9Ryh9Wc8gMzGLUR29IZB0OorSroKZ3lnRxYE+v3C1s9IX++8Qd+LA+U/Umh646Wo7SqFTfBNVE2HrUq1dq7wIJNWre8Yph/XW14urTOJRqv+VNJBO9ernmOEZNyMvHJEACJPDsCOizwCX9e3O0pShbRzdWdTenuyFPaPfkWt65Ot4JeCJ7Z+L57c311cluSPFFNrb3js8vL88PtwKxl5cOkp7tBZTIgdMTmfj2Fl/YO1+3t7cO5Q3cujiIKMqmTeRJGRyeX76MKb6tI11Jh+fut26vz15thwIbB5LJw14wjkfZeHVl1HKxj2MPnr7UZ3ux3VMDl7RjKLa9d3R2eXVxerDhUwJ7ZybLq6Mtn2nG9zfn+zFPYPtYKi+MerTtUQKxze2Dk4vLyzNk3RRgLg83PJ6NgwtZxjUM7wnp7WAaneHSfPnll/aUv//+O3rqNHnfD7TJ27PdgG/TYHALWQOR/QunYpArtH18pT8SOvqc26ZMcHsMnTdfWfaX7WH3TH9mtfPNHYnk/GgnpHhMGUSa0x2fYit96OP7W0l46+hKZ3e6F/EEdvQe5dKJmjdXF4ebsCC61hG61sXxLhp5bHdvZ9f66Nk4vJICiuscPSx0oIO4Pd0N2K39/v3FQcymnJUJf0C0iMcT2z+9hmw3F692NkKipZxbaey6XL3asFqN3my2jo1WD6sM9HAXvTAEDI8wQnJfaGPn1QWKur0+BSpP5ODcaKrXrzYUz/aJNQjoI4llcNH30a7tGrm3bdQtyPg2X54Lqa/PX27HAh674QbImCaIbe0cnl5cXpzsRXw7J+gIL2OR3VOjqVxjeET/uNJzoqWcHcQUT2RjZ1+MiMgT84CLKe8E2tO0k9jmzktIc3n2ctOHIWt3d+fA+hiwur9dEXun3tqFKleXZxipFd+2abz374fMd/1qEwPLsU7drpRs/q+2A2j+aItSR/2j1RBQ88kOxo/Q5t7xJQq4vTrGOwJtFaYXl0Tg23olnuEh+q8npg8qt27AB5WZrje5dtWBwq4ON4ZeHZfiZdIfYkVqwcazbcAYksX6KF9Cdgj9hLKB75665eR9EiABElgjAtNN+xYFZHjCIYZqzN76c335FrCmb+diVt2fzF2enoiJyfAl8tjnJYPPrw5jY9zQ0H5/ejVcrvwsZ6MTUzlmNW+KWVDImGOOTTjw8BZT0wBOF/siO0fyBf3wF6YaHssalwexSASzBXNmgnnzjjX3k3b07Zgezu0JJt3m1Ep4BWLGYlnq5gQI+xMvMYvt2/zm4uT08vbmeBtTXduUSc567JPqsdp/8MEHWKuxJzk4OPjss8/GZjIfDrRJ4WzY5bg8PjSnl0OF3Vxf29oi8mGmbM2Fh9KOc2lE0uF2DiHsDXq8S3MFqw3M92+O4Zr2m+xw4XonGrKg7HeYUtun+jYT2l2a97di4t83PqSPuLjrqATTz13L130PrwXn0lxcmlPMVW0mvz47PNI93JE5scQ7Ri/blyZCckwirRFGb51mo57VpRnbtiVDeyOQE1F3T1c3wfaJ0Yyuz4/PrqAXGpatu0NLez+Qo1nftjdHcEzN8XMC7enaienHwnHF4NMXXnTqkLN3L4whO3W/FZzvhey+4DiXBpmHlJLY8IWGQUF8tM/ZhUtjjUqClxihjT4rvOIBMYUPYSV2AS7kt67pKFnfrInxwvXdI/qJR7ip1iXuDHylZzRjWwMdkMb8MMalERLYvy5xzM+bJEACJLAWBJa38czBsWjX66+VYNy2qSuciAeUf9RsOwkCcSvWWDSZctpW3Gq2FAQk8zpUgFvBdPn8zO06r9rOKDjmbzWad54Zw53ZC+rUsinNW6w5HvB0rNG46UUsm0739qqsNrMJ9aEj9cpKg8l0/K5RlbsYWtV6MFdMR+7q1brcX1Sth1PqAOOoGjc+e7GDR0GMBllKq9Z4q0T1EBDyhl/ge12vt+UneYUTZiwHfzyVjHqbtfo7BQEerPLRKEJ3OAc/xYaKX375BUtwWKjRi/7tt99wkAb/fvfdd1Z9U/8RVtXQ27+lE9hwVm+h8mg6l3TecujtNeSGSbkrKahq/7hrz3XaydbOg+GgctftTqE79Oo2qo07X7y/l0VBpIyo8qZe1zf6SNVdOlHfglDBg05kGtSPj5Cgv0vMDtCrZtKhd7WSvttFbHuJZpyOL2PrYr1xB7OapcLucXRvtyueVH0/5VU1W6w2sEEtqOYy/ZzOmVz0GkocsI0wXoij3GErp3OBE+6Oa9tdUSgMEbfKAE/PhAKVaFLGSsEVTKRlWCxvp55PJcTeXHGlSm/uho7ReeIJsw5/MOxDx9NbynjaU7aTuBBBSIG6FV//CGEQPbw3vknCuGZXEXtsp23Aen12pcIgYmua6A2oeaAtgqxBTRw1RHN/2xDNHTo273yJpLWvCwNN3HNXr9m2RI4C1wXQ/52SkvVKGttVexC6f3DUXs0C/5YVdHG8jhcJkAAJrD2Bf3pMAt0OXsZ+vCz7l9ePT91OB/f1m16/i69i5mm3mu/w7g27KOINRuNetxEf74PxpXebrY4STkftIrpUNHq7165kUkW/Vq+6TItHswzf8YZTWl795i9aqZErJYafLvpzOJmO3eXh02QStRpOJyUTrdDX5Uq9lwrX6sFUfpACNs1bAsg/9deqNF4PByCKffF6Pl9Q2Nq8hoza64gZizhjlbeS9Ho+L+5b7cBV1x9//BHPPvzwQz0FFmc0TcNZGtcM4x54E8XGebRQKJb+8m9f/8UX2c4WS5qD9RCaNfHv1ehhrZmTU9J2MfHHvAFgXPnuz2xIwBJT4SknKZjtIeLGQCeRnzpjeJtS2C2IeyNxO9xESGTSkb8W4dOk0t56qR7PFB37h5yIemSPNq9xvTmYqTb8hQLCavz7N//pCWyktVJpglMzrjiXSv1+r0dMt6Hb+K7vZKqxbXvEEBNHF1QxZAIFR3jUvzTVo3orIwedRi78r9UhUQabivlwAu37tBM7Xgjj1hwMCYaNMSG5q1LCLJ7xA/PAU5zdwRcpwt2SOr4TP17TL7znNZw+oxUOAx8UY1ZKM3VVuK3y7TbwNhJ+j0fen+OavSXPURmzkgAJkMBTJfCoqzTSm5F+jXXhnSK8HNs7aQI5HN9vj1mkEZPNf8bGJOfrn6POZ5qtOrEChEWa2cKd6Zm79XwyVVHLdZy7n6DC4OPhmYAIcIXZ5kxl3Dex9GmwLtOqVZUU5I6nk4F39Uq9Wav6U8npXrvSeHGt2bFdmEK2tLirVF4cIFY8OOs+mKVbz4Vd81gPsEqDJRp9SRVHaODMfP/99/ZsX3zxxddffz25ICMFjiOXaq0udsQdJpXa16lUsT2St9coV976kvms+RX7SIrBG8J6NruKacyiLngMHszl7AXKT4PfFCyqNqOceCaDdlKqdLq1UjORTTq3TojmVe5kjzav8Zp7oymt0uh0r86OstH23/6SzMoVwnmvgUrhzNwpfiGZvIYtM76+cW0bZQ4ZAj13fHGjinVr5fq7UDqv+zOjz8fcmUD7UdqJKa6EbbHoTXKOxmipPxoA2+uJV4ZwChCDAnvQ0pWhoadbTU83dIkSho2o96179SaRCW3P1gbEopHSbrb7Cnbb7bcK4no496CJIEDV0n6KxExCAiRAAs+awKO6NNjmE1HeNG0/uNluNN8qsdSUM0VhmXazhUWaaNjNSnNtPOu2mm/u8cLptcpptdDL16pZuXWmW82my203Ce33u+VkNFO33+nUqg0loKbcHYKhcnudtm0OqQx9VLrtARdyKHM0mYxgT1G+0ksmw3gmfJq3tWKh4hUezlRXNKkGFNjR9ibvVHMISzRmehdPqb47sYGwf7XKWcT9mqJGrNJYazJwXOHewMmx58MONBytmaIkJGlXcpo+jcaOuFylnA0NiWUUM6wLqI6pAN8jewHeNEsXP1U0JvVsj/yJVMLzrmnbZtYVH0KqbSvabCVOkzqazmwo/13WtFJLzQ7uR7RlT6gJj9Ks95tCp9l661p8o2iEtvKG1Uyxqm0pb63f4rXmxL02thjZ27drcf0H/WIwA4Q4iiduhA+EXcQGO7M8Ga99+NJN3UG+DraJubdtEWtdgSGaVgFi0+pwaRM+o7KBLPAHp1Z2PO3HaSe6usKB7CsCE7YnYJj0uN3ot4Gu2HOmRxHzq8mEB9a2Fd9rFDO56YMcL5RSGG+lu4Fv7LxqOunTN8npKvbq2K0YSaWnHt1HyIjRPhAWe/X0a/z4PpKdN0iABEjgGRF4VJdGieeLuyEE7zfeOe1KvtiM7BUz0akJyxjL2FrtmgEhcROq25WIG7/94pK9icJdTtJg1eEFIpGOTjiwFV5N5DvJTKJbr+iXVqr1/HaPANtJEMW3NjwxxpGVRvNNvWS9gsW2+lw9uFPS+tPGXi3tNyPNjojdRZTfP/wxrsehhS81+FHpVJLhP/4h6bDuYJaEoy2hd3//r46akjbwYoO/7+3f/6uXkh7ONJdXLRS3lUqhYByEgX+XzVX9cencuVz+lFbY7JRyZkTabrOYzTeCrrsJrWJwZgYHabDZzLqDgzT2SvBjNfjVGpdqR293mzVNsyIoY07awdb80cblTaSSvnc1rSRn69AwX3kzWlj/Do4JeV7XyjI1AumWm2NYjCvH6Vk4o2Uj7XKu3JbNCauDhbp/p5hPOCVe2L1wOpvw/PTXr9uprHtF/nQhG+lWcnkZ4RqYYGDX0yWItFwuiMDB8hITVU8oYQTAFUcW8NU7vt6vF1LZ6b4d6KvqaRZzuk3Rn3KVbiRXSOlTQPmTTwi1K9F1alqlPSAejoR4sNcMIjWL6XSppYxt2+FMYTfwWjRioUO3Ucw7BB/uS+X4V1BNbXjeVCCIbCrNooaI3VNeE2g/TjuRskdVFV+MVKRtEaS61JhSI9dkaAZ5abReu5rL/5eykc/LlcJgRsvFmgK87AuKsLfWniUC/yIpBdVkRBn8okYMdBvtYl7vrN1GvlD172h5a4SRsabNyPmu6tsewAt/iyHK6IO9eib6xz+YUfinyc80JEACJPCcCCwtCML18U4o4MOUweMLBEIbL83wUNenL3c2IqEI4mshOunhmRGc6PJwM4QYqEg+kHpYXBkLxuMLxQ4mhC4bzjj+M8J/hgIBKa4QIBDaMsOEGvkQ3kiEyh0JwCbDTY1eg3GPLvYjImyRQxyzm/OjA9BAheAhgGzvH8mYsNYlYuh6XMMoXR9vB3yxfTPk89BHhEre9PmA3qFmqwIRlccW2+j2BMHI7PUhFJtlx8j+2e21QKVzCm0alG6vTg62YyGpBHQ4OL3Siz8/iIUkU9EEtqx40fLh7cXR3lbEzNNvCH3VHf5CoDP8Io39AQrXY51hcQaXHs0Z/zpkRqRdW5sM7SBI2+3F8cHOZiwSi4l4b5GN3VeD9Pul3JzJIL0eWGpja/+liII8rhleHe9tBHy+gKBxcopQvKIbAJ8wiYUPRESkXbOXILi5BRvERBs02UuACHduyHNzfrhr9qEYKtDjOYvQ2E6daNiCplUgUWjv9Nb+EUwgkCVgv9eKSFNo6RHHqOp21tenB1sRn0dou7l/fCwjgwdCMUQatOkiuxdCnO1tAbtgHwrFtvYtNWCo072NEDQOoRCEoHPWa9iapuQhUe8m4gdCisjWwUAIu1tElgZwnz72nIiIVBDP1BNGBkBR7cauGbHbrW0LpW8vj/c20cJFS0BFR4gDJgxndos+F7sJArLlWZcBDLxEWzlARG8hEYpAZ0bHEwMSolKjDwsIRmcKbRsR4t1py/KnaCeiW/a7tE+vWIzcVsV9UfW/bJ0agR1vbhGB3WjB0szyQvRsCAudYlt7x2cigLhobEg9rBSiVluZEWvbPtYgBppZ9MbLk6NdNAiQDsS2Dwf66M35q91NYxyJbe7K6N2wjK2kIeDD+kxLabirjpQjYrkhLvlwIEQhoNFZBxs5ChBh/AYCy128hJoBfXxFnx8WHZ3QZ4/QePEy5gtsvrp0kIW3SIAESODZE1huEOfnglO4CuZvrcysk/ArQrunI97QNAWJ+aYP7ts4n2SaclY/DX5YU/cc9VNSP//8s66THvoMW9Hgz+AO7lsnbVZf6SelAb5NmDrM9pMSnMKQwJIIIOB5JGDF6Z5UqfiVNutXsSYlxvNb/CIUHJirKZIyCQmQAAmsAYEX0HF0UYF3xhHAD2Kn29lqOXOPQ529ejaRUwrVUio8rgrnZzjnmtDCpaqmBp0T8O4wgb29PX1bmhXleTgFP9+PQDMfzyEQXpZN8X78mGstCPRapRTCxFRq+XE7bwUKvBri2Z5Wnzbef6eaThYQT7M0ZdyWtcBNJUmABNaaAF2a+5gfO7XvfRoCEXDuH79srsz30XTV8+AgDc7bYH8aXZrFmLKRS5SS9XKinsH/G9PHklpM7SyFBFaPQKdRa4eT5k9xjZF/pvdKC4H21eT4w6Bj6uIjEiABEnh2BOjSPDuTUiESeDgCzWIiWcBB+bCqVSuZ8MNVxJJJgARIgARIgARIYGoCdGmmRsWEJEACJEACJEACJEACJEACT4/A4wZxfno8KBEJkAAJkAAJkAAJkAAJkMBKEaBLs1LmorAkQAIkQAIkQAIkQAIkQAKDBOjSsEWQAAmQAAmQAAmQAAmQAAmsMAG6NCtsPIpOAiRAAiRAAiRAAiRAAiRAl4ZtgARIgARIgARIgARIgARIYIUJ0KVZYeNRdBIgARIgARIgARIgARIgAbo0bAMkQAIkQAIkQAIkQAIkQAIrTIAuzQobj6KTAAmQAAmQAAmQAAmQAAnQpWEbIAESIAESIAESIAESIAESWGECdGlW2HgUnQRIgARIgARIgARIgARIgC4N2wAJkAAJkAAJkAAJkAAJkMAKE6BLs8LGo+gkQAIkQAIkQAIkQAIkQAJ0adgGSIAESIAESIAESIAESIAEVpgAXZoVNh5FJwESIAESIAESIAESIAESoEvDNkACJEACJEACJEACJEACJLDCBOjSrLDxKDoJkAAJkAAJkAAJkAAJkABdGrYBEiABEiABEiABEiABEiCBFSZAl2aFjUfRSYAESIAESIAESIAESIAE6NKwDZAACZAACZAACZAACZAACawwAbo0K2w8ik4CJEACJEACJEACJEACJECXhm2ABEiABEiABEiABEiABEhghQnQpVlh41F0EiABEiABEiABEiABEiABujRsAyRAAiRAAiRAAiRAAiRAAitMgC7NChuPopMACZAACZAACZAACZAACdClYRsgARIgARIgARIgARIgARJYYQJ0aVbYeBSdBEiABEiABEiABEiABEiALg3bAAmQAAmQAAmQAAmQAAmQwAoToEuzwsaj6CRAAiRAAiRAAiRAAiRAAnRp2AbcCfSqmXDQ733xIlFsu6ea/kktqxcX11rTZ2JKEnAn0GuW0olwOBqNhqOJbLXjnnL+J4vrDvVcVParZXWExUl+D4rdalrv9mr5Qc3jKtqyabsKssAHnXJKQvUmK70FFrvUoh7/ddDIxcNB9MNwvjmX5o/av+aSfDGZV7w1TtcMOnUtnYjiXROP43UTT2ar7ZnpNbWEbHDBbGPmvMwwFYElujRms3/xwusPhlOP9HqbioqeqF0raqV6156jXVKD4Ux14N4MJc6ZdOm1e1PlNszmua/craqmVZr9V26y1O5UUr77Fre4fM189MWL6PB7rF1K6nOvF9Fc3T5RsCZlouWmYX7rFSbasnGF48kMtH2ktrE4Nk+4pF49G/Yn7P5ws5D+j0a83MJVz3qbrQelP2936JNVi61OJW3vCKOqudhhuE+5JMNt23Axv+QOg6F7zYNP/KlKG7LcexSZth7XdKO0XZOuzINgptpuFhMrI68QtNcsa1q1/23W478OEsVmu5oJzE1x5v7l0IubWtwfzTVW0kFdUmt8KESjzaBTTQeDyXK73zJaWjKpdTPVVrvVbLaa1UyvUZ/9G5p4vtGu5UJzNzgW4EpgiS6NaPbyPe5LVzoYSIKuQj2RB+2K9lWxNtBsvf5wMOj3ex9HwsetfXad8QorfFVqLGyaube39+mnn7548eLzzz/Hv7g+/vjjfD5/c3Mzm3CNcvW1oryulAe/Kglna+1OLYsB5/Vf03bHVUzKOo1CLFZodNqVlF+RrzCR0qOWWh15tevFtLea/Zeoqk2v8Y8//giNZhN+bOqFIRpby6M99IbD6ID97tdp1F974smEuBPO1ev56KOJNm/Fw6q5lDdDn1rocOEwGLpIyNsk4Eyg2yh9VSi3VnLS7qzRfe869WJ013Aw7H2kucV9NVlqvuUh8nqDsIZtoteuVf7hTeYyUd0+3mi2Us3Hl6o9K5uKwBJdmqnkeeKJgulys1FUH2nYedzaH98033zzzZ/+9KePPvrohx9+eC+vX3/99ZNPPsE8fhbhevVyPX54sKG8qZQHFmPMQmKbm4G3/yeTtn9JM7ECb1jNlOr1l+HGV8n05CVIeGIffvjht99++8svv0wse/oEC0I0fYVLTelN5Ov4fixsVdrrYX7ktaZldko1AAAgAElEQVQBj9QvF8FgRLX5C1334WJ+giyBBJZGIJqtNus5zpLHAF8eIn+y2GiUU/2v3TvtruK3+zjweWzfrY0Rmo+WS+BRXZqW2P6Dy5uutirZRBBzE380VbTtVLLD6O/XLNWK2D/vR/JwIlM2kndKqv7NfbLcrOWTUbFVXZSs9FrVfFqNi0vst09pQ+uFvXY1nxKPxBZJsXmoiu+RWloimKq8VV4XE3JfUUJrKo18XG6AD+dsX+7jm6eMKjPHo/FEKldqdAyhu81yVjwRu/zjqXytPa1l8RUOioQs4lLT+bLczDRUez0blOqGc7VGKR0X7ILxzNBXYMbuT104lNTfFtVpAKEhXCJdnLyECkjJqF5LujiwDGESGNITG9ix6nGn/Deo4Qpjl4ENQLeupWAifO2CAxBTk1EUOACfffaZnSQ+fv/999OyRTp4NE01l81ltzxvKyUHn8YbzJQre5F3f8+mi/1dElPV4I3ntEzo3d8Lmq2JOObUNO3333//7rvvHJ/Oc3M+RGh8uVTC6i2Z/iKbvbdWsyr6H5qfuSe4XUMfMo60wLVz3n7XrYhDFeiVqar8prZVVGWHMnYA9qopUaQ4YdJwaB7YsqhvC0yW5bqfyJ3I/0O5E3sEgsFoti6pmW1eHq7pt2x74Y1iCh1G1KSW/99+P8KpHNGP/NGkhu2m4pCO/BhW84NLtbIaXGjh+iDjx/AgGkoPh0bEHS+GDnMUMBOLxxjkBDbR6NMDi5fDqonEToOAQ59y0+v/cxqshDBOHRk7LqUhggZDc6wxjtA5DYZSr3FDXLdZyiTwpbMAmLXvPrURkX+6tyuMLFm9LWI0jKpZc6gH+smjnzttXYAp2kldE68RjKtp0aAxZMmPaB+DA2BfoYF3UM6wdTJvbl7GtkmJWS3J1tFFgxYf/Zm6LMKm1CxNsdc0mpX9bajL5NIr7RWVM3jv6p1u3FjXle8L852kvyMNvV3Gf+Op+T+xVTee/0m5q+F4pngfpPUxQH/u/jqAGXNJY2SJJ3OVcWs8bu9i9zFtSEj50XE+AOOMtd1oQe6VOvViQUW0BfvhOjewUzT+YXFmJzPb3Kxf3+ytcVhWdAynxtYbRDT4spjUT8UIJrtaulzTMPjLQRjDknNrEm8W0Sm86ZoUTgyHydIb5Q2GSesSxdmPGI9rqOiH+tARjIvp59hlSvdBD5L8/+2dP1AjSZaHNREXIc4SMw6cJW7XEGtBxEwEOgtdxG4gD87YhrXgnIWzmrNgPbxmLDgLZhw4C3bXgLPgYicCnYUmYiaasaCNHWgL2hnUFmBxv6x/qipVlVQIaCF9ZXSjqqzMl1++fJlPmfkUSaYRYG/fsb/tfrZ/D2a18Wz2wCnv+vL8aGkkky2MTb/eOT49fbs3P5LNFJbexslzuTWeyWQHxl4fnN/c31+/3ZgcyOQmdy5N+pvr87drepwfmZheO3hrMivkpvfur7cm8pM753aW18evR3Ijb069As63JgeyI6+Prq0710fzhWz+tV3+0eyAZKknNQmOX+cz+dfHzus3yi07MLF1KmEkwOnGRC47sWNldbo2ls2OLb21nlzuzeaz+XmnEOflmP9uVGxufOPcenxjxCs48gRKvxE75ZrJFcanl/benp4eb01rH5T7ot69PjCFzu5ZcMTqzVjWIS+xC9ncxIYltlVEdsSR1EobvPams5mB/Pj8jkl+c76jQrNjaw4Wl4BpDtXzQPgGpp0i7292JrOZ8Q1bADfTg+lcZmBkYlZNdH56tDZhNaBNP1xyxOfPP/9cCxH+B0tLS/JqIpLG3Lremx632v/GSJKb3AuVLTYTW9f3N4ZXRlyOrZrpOn0z4lccuzXc5q4XdmNUPEmHQ3LJ/ITutPmxPUSqZWH2wGmyS6lQbnzr3Jao3lsnZzeO1Fulcfl59QWjaZmBaacbqhPmpMCOgoQrc7kxlslO7rlQ74/mTSezO5zR6S2pTLx6qC9nMqZ5nOt8TdZj+sArJKjz5zvTA9mC0+3qmY9PWh3maGnM1M3tRyPj029kNU6P3oxLLSZmZ6eXvI8DsweewKY7jK05SM7XVJsxp7MaKa53JlWgl9hXe4kmVR9/c2yEvzx+MzkykM34FCpQtXgj0NCnYuplWjBorO4TO/L926VCZmD+yJN4Tw3h1fP+PsIYJpm4y60JdfPJjVPV9ub84PVkQQcWxreCpsApK1av1BXV/+zGtsyUTIvzqZn1a0K7JT2ZsLV8TzY+k5+cn51dM0pvf/RMsq+F9Wd9DJqc3zo6PX97ICUzWF2NCDefupvGQ5u6Z9JbVUVrNBwoTEaNhkm9sj52jE3Om3H3WGY4aNuC1ZJW5zyzfmM6uKsZifY/mIm0PtT3zfPk4eBcauT1YDN2Zwec0T6c933SWBxv05TNsSxQ3ptyJMwHktrOiBOwDGa4iDOk0pO4kdFrhQSwzYf+IJyHkXnY3OwB2hhuyXhls7XFQeQfLKzRqFk/NV0tk81PvDk2Vuj62Nj5/OyBO5YE1eA+PLKEbGm4tRMU1ZptaYp5cCkjoCnr9FjemAR3DhmufrzRM4NLTDcMZ9LLnx95OtUUZdClUXKjOj4n4dpY6fAsuJ6rbcRn63MGM6eozx+taUF9lnp5vHN0LjW6vPRNW6XZWc9pujEzqsC0VmOxpvdWiRGjeHCWcL4xbhww3+RN+ji5YzRXypfxT4QuN8aNIyBpml2m5/nfPN1Zc2eY4TmK6Wa+WZF5sz5bNFMUeTj1ScTN3nTBGjzPNzRZd/02I86pSRrrVxhL7X+qumnWaU/yGghc70yYvO3+Gmu4sxPe5MbUwT+TSsLzww8/yAHQ4oadSLvO5M9oK5p3J+ll59n11uSEA+XmeF7emW+CbCVxXBr9ZcyUdNP1RFt0aSyamZxvnp0s1eO6NO0jUm/xzcjVPH61tXurN0M7P9rR+GA0zT/7tTrVgK+T+gGEpzV+l8akM1Mcv3qoiXzq0cSladB5yzzUJ2tW5l6fuH67d2B59XY/cjun7ZPWXzJmwNdbghMX9Ws5Jl6/NtbD+8Ij0O5BQ6VHFrU4lybeCMT3qeh61b9/saZccR3ZlieNS5No4iyiPlfPuGixLo3patYoENKr+xsZbp8uHkxn/d8gJFm/JrRb0hPPMFg2ra42VgvEm3J7DJp2fWBZ3ZzvC45w8/ldGqMvqVQxcTRs0ivD9A723voGyYDq2lLVv1iT97C1YX89l2z/Q7nEujRxw4GlNf4mvzZ+dvQ3ng2SGENujcW6Em2afy6bOB9o1nZBy5BYaDgrS0pjnVyD0FCdwMDq6on31Wxw6A9yb8iqZTKPODdroo1+iY1mRipbCJHzsT6AN+mnlkvjV56gTO24NEmKKntgpku+Kasc+wSXJsHoJZEJtnkvf/qkG8/c9bHsaNHdQqqIUrlMrZZ4ony4NOptmh8qFvOZdxVvt5eyHC4X++2cB4szpSHttb+tWtH37DXD0upPdxcXzr6Qs8PKh8xQadR5Qa8Nzh0qroYrWeL/tep+9S43Whqupyqun+3PSLiTw8rHzGjJOrZsXYOjo/m7k8MWDo4PlUr5D/89U9SGs4oJ4DQ8s1iub+lsEGhgtOiWr82dmTuX3UWl8s6UWn+1b2r3bLtkFi/3T+5yxXJd7KHiaPauclhtyNy7MVysI+ovqsYfqhXtU2gk0G9wvK+YhwnXUF0uI3ST9vYy0mF6/a0jKNb2pM90hEb+jPZuaV0iobDAo6vd/b65GRtKX3FxYeSush21Sci8NDS3uz2df//NTLrYwInLyq3K+dB07SPqu6osTxWHnQX2qc33d1dub7GFytb1eqg0Uxy0NC1fLA65MvcZlfxQPUzWgYQa+tVjuHX1yDTqvDR7IPNToNvJYjh9on90quyc9tQYMzrqVKBPVc/khke9bjXYn7mNs0iDM3Ol7E+bu3ZdL/a3r8pzxYiq1aqHJxnZirplUZfKRiS0b6U0AualmHqFiojpyLGCxD9IMnEX1ep7qYRLVCY4YCWjMw3rlTkkdWHtOnJ0cWb/7u7qKjA0xFi/JrRb05NR1+QppmGfz5RKP/oztaAc4RrVh6g+bSiSgUtjFNKpYsxo2Eqv9NEbLk/5BsGG6pSLA+/+q1xURMfqxW2mrzi3UDJD5kPtfyj/uOHg7LD6ITNccofzTKZ/WJblXaVyERYwQpKMOxYrbVOb5ubX1nwgJFTLhTZUpkWwMcofyq6xjVKReZy5WSva6Mqt+VukskVgMrekPM7srYV+qtrUpz3qObnMSeURYswlKWq1Ur3TVNA3ZR3VmBR/JRi9lGTiy+jqJx3h0mT66qElPCcgFnu2fhxYaXRkSxZAZ7e8S/sk/e/WDheK/7Z5pXP9dmSq6oqc5IwzxNSurpTFA6OMaJ5z5xe9XurtlRnDzM8heNfUdi3Xp/ux1XIf9BXXq8cbM4Mnm//+r7/5XGeLYnbyO+mD6DRJ8mqmoiw44csS+6P5xRn30pmXvmRHMoBc+1CF3EzyIghY8jQZ8BugtTjg65SIfBj7GwitzCgwQOgUzatXr77++utwhX2fLxQQ4LDeLKX1i+zd/23vXsS80j+1vfu6UPvz3NymRvLWrlvLA1C8lNaSP3KqdhHpwFrpD7uZhX0njtu+if8WunwqZ55Yjf1eRym9S2djcjmraz3sChXgqnTTzCxJgjrf12901S9KOHMn19Bt/0flEN/4/VNz5dy7zc0T5SOP5nZmbjRKTnWXkK1Ql4q3dSmNgCkxpl4hYWI6cpTIyfcSTVxjQ6jceAcuugl0WKpc+o/K4ErlwrbcVtRrEw+ifsVYvya0G8UTvUQ96ZN7pQQtX/4hxWrmeAVqzDOVKsaNhq30ytZURgL2l7erB2vlvsrqH/7ln/9RZ4ucw0QPtf+hOoflcGFZ/dYcg/AuGWxjWdTNQ1eEJF6KVmyak7it+UBApBSFhuuizxHVsSAFqh6j/I9MJlhKhKz+W+1oo5tPnLLFFB1Qnmb9NGB01aX76t8Bx2Tf0u0ERVVL3maylnlxr7C6B4pIMnopybQkevcl6gyXJhXXOyvMkXvZw9NQ7HhzW93e/ZArLy/Uv+vxlSbHXnYiOEy2LIz0NCvjEzFa9ZnQGFkTdr9+aZitVRaHWsl9sLiweXhW08aYtXLm8OupqfWLVl4LpLFdvQjjr9F7UCuhCqQdEm5/JhaiJhK+Wt7eakjpN500goDFI9KVSl2Fhhe0BCE3xr6tlRm5N6FwYVqx0Va0hve8G2e7+8OBel+drI5lvne/ZI94UXPL/dWx2/9dnFmPPvIefue2uq8Funx5ajj8JOVnO1y1vR4V+lehq+MyaxNR7XC78jE/szw3HK8L4aKtxi4sHIb06Wq7HE5pfw7N8B7Y+aLyjtB5a3nF6uVPdfVPLZRz7/c3q7dnm9t9MzPR7a7uErIV6lIRlqMu5WMYgcY6x3RkN2FdomTh1PWTTFxjQ6jcu0ZpEu+c7W9/fzeysDI1FO/6xWTQhHajePYy3JPqiSNqWPujho+YWkXejhsN0/bKyMzrN/uGyovb8i21l3tptLb/n+W5XXWsJ7b/VnuMrjrfRdr2RaPoWcQuighJXOHT2LTk+UCKtktTaAT6iOo8dGCNyOohZCKEjLj1ONoYrWwRxaW+FTC6msfI27AmMm1eCYoq/PKbrGHIvSKnjM7DJkbv6ci0SaCDXn+BLk3mrHriDb3WFodCyd1LEkE2PG+o+bfRDJdLA9qvUs8vc7U7V1o8tF+yhlLz5+2F9ln5lNIupr84Vcx+1O8u1UutrpanNvV5dKqUuzvzP8mcbS8oIFmEgKFb2muxWrHK18aYxd3thXwoo+ZZmBTaulLIXJ2cXHnJbw8XS3PaZNVfKhezH85OLuoZ3VbX5xaTfnn9olqvfs3sORswu88yDgHfNrPaiT7kS85mvPoYUDvTZrQGgq1VxU71888/6/dn/OHOFAfZn4F+rKbJb7ycbO4PTgUjcA+Vp0YyzpfsMdIML+5vT/Z//6eFQMi26MS3J+vL2x9yEyvLxegErd/VqZi4HbE6RBSZT/uIpHeBmadMcdNGGypL0y4Cv3KpAEYzJmpYxKWvqLLe7kjFJzs7+xiR6mG3LJ1/79f5i+rJh8zIVOTXGQ8ro/GtvtLC1MD7/fWV9f3BuZmhxgTmTn+xPJr5eFI58R7LisVP8hOMQHt9KqYjGwmtDVLeDFvGKyhe2BgmmThrO/D7at3E3J5UWzB90ejcu7Vacqgg39tNaH8aPbHks74Zrm8qqJ2dXSTXuunTmNEwXa9sUsrZ5oK1DClHtjizur85lft4UpXgzex/Q7ae8mo8MFvYki97dPaN9rIX+/pyKWKrUMJYnMamJc4H0rRds0Kb9OLUYONBPhKZ+AICTx5BG+OUrUUJEpPd+e3QWeUkeDog8dWkh0mKWiwVs9reVp9iXp2cfUjKLPAsYPSekkzLEnV8wpfo0mQq6ytW1OHbs+3F1e81gUyI5t5XnCrnPh6ublo6pTeWd9/XW6WvtLw60Xe44sbZvDpcXqkM2T/dp81Dgxl9NXSrsL8rUwvbFw2NOTS3ulC40CTWNs5mPrtes6bz/VOrK+NXm4tuQOrayfrCcnXQ3VxuRSD0x2v0ZV07OVxddYMx38pEXOncy2hD2U1vjC6vzw5WV5cdT6VWXV7e7S+XBs1xodXFEcm664wpOjyxuHox7Dt205C5CCzvm+SKcLm4/D+ZseXlsrHKNoHtRYdArSJ8/dPrzoTeOpVguZA1xfhdsR21hrxbvKH1B/0ijbdKo7fscyP6Q9vPdGmJRos28T+7eVvZPAx7NObkVVnT4Mhgzp5g+oGP7dn8x4+Jk+/bq6qCdpf+dFF8c7j7aX5Htm1EmcHS1Fj2/e6qrRrS2tX9xEpbiIaNpklBnFDHRkUW1m+Hohd6zGwzW921lClzdaiSmm5IalFBlMzofL6u8xe7y+snhfn1OfXIJ7yMT5P/8Oevd4fmfD9kECpwaG5lduCdsQjG01MwTnW/eJnijUCbfSquI1tncfJ3+g1ay7Be7G4eBj3SBmOYaOKKyysTue9XFm07dlVZWdmPdHDjCTg986fNFVutapWV1Uq8D5iO9qfRE0tGHUTLvju0w1ErXuv2iTGj7Vy1/ZXI0TBVr5QAVgBqJ7x0WJ6rk/3VVffI4a2+tbodKFlnMZPtfzgbfZmd02koadjF9tzUaoRnEnyjr7SyPpnZXVmp2sqj0Xthcb9/dDSCWfxYnMamJc4H0rRdk0Kb9uJ0YMOgA58fh0xiEfWHj6CNscrWoghJybK1w1V702Sturq4+S4/u+L7lbOkNxOfJSlq/8zKQqG2u7jsTVnXT+KHPGs6Emf0npJMYv1e1sO4b4If//7l1mR+IGdaM5sbyE8q5tXljrlj3ciPvXl7c7o2nrcSOM8bZTAxXhTi4nhnfrygvBTOeXbDjpOsmLzzdvbKfSA/7YsLfH1kRUzNDuQLYxOv38wWrAIVHtTO/+Z87/XESD5f0DUy/tqKVWxfikk8ltdb+cK4QvDdHy+N5BV41USRrr99fbw2O6YU5hqbXvPFab55uzU/UbDztR7Vg4+ZUCIKqOyL5lOv6s3bnaXp8ZHCyMhIQfmqgnYY01DphpUrzMTGuQnUaME1bGfdGLmXB2+mXeHGRaoe0+b6eGN23BFuJPjIR/1GYaKtXMfe7G3NioVBPjK55gRWtVPWCeQLI4qPa8dztp8pjO6IWkP1UOzEa4ug28CKx+plb5ojOlCUyUY/rGn3KW020+UtX2jjme7LyZEzo2S675208dXB/lO4TEXCiiVqtkB6Uni9szGRHxBUw7Dw+iiQyY1kz9ZDbBowNn5pm30pePjsm52EuEGB/EIb5FLFoW6o3aMgcnK9PFiaKOSEQPo8ubSkyOBG38fXTn29VXh84X7Ni5dHdU0bmfB3ogZhbxTHUrqak26rU+wpOpopQP2/iXpc7kx7Hdz0b6sH2NZDKqY+YJdU13m7ALfX+XTPl1rB1gP9yDJSto2y62zKdC1U1e0ORo+8Ak2xJnhOYzzwUNVvTmW2pG5G2yeWDrYU4MhkZKENVk0hxKONgMkxvk/5hQqai0prHfmNWl4SGYNwbKJpm47g1jNkDK26JZg4PduYHZPVNfkpqP6aiRoW7n5WJvF65QKTLpq4xkvKwurBO5ctWL942lapCjjvamysnuRlo/xjksKUn65N2AZDKhvQACtP/xgkA3JT1yarme2Cz3fmx6T+A6Z77R3oNwwMF2Nu0qjiW3c0zU6I7bQGpuBo6NQxulf6CrI7nkltwin5w2DaOdj/arR4PTmm4VFjkga08fktZ9A1j5Psvz8T/S2dUDRvMx6MKL63MalNhwONzkuTzuhsiB2ch/L0fYwdi2NtmrH/7ihqLJC54ucDpu9Ft503kvksQ2yhVimhXuxOXqz3HU2JA9uC8ocZpSeTbm7WjjY2yhqtbCFEIeVp3k/t4II7xyaKsrFL7u9SqPyQGvhHlvz8QcPEL6q1jdrEKqqjCqafa4K5Y8JBmjlk5JQn3uipp0WTCRPs7c+fqfovyAe72i7900LfTu3QhBV7qdftyfJocX+qGrUn+KXWqQPkVgA0e1ua7ep0gEQdJwKInqhJ9KuJo4cLZ9vW0iUXBF4agdrh3OjMxfKJflHypYmOvBBohYCmW79ZHT2oxZ3xbCUP0nQ+gRe58azzsSZJeLa+sDu8uR9xxjHpLZ41I6BdZ5qyN0vV089B9DTNXzvcPSvPBU9pPU1J5AqBxydwq63H1dL2Lv7M47MlRwhA4BkJ/MMzlkVRFoHh5cpFhm9zH10b7F+ZfPRsuylDED1qa9a2p6Zq65XF2+31i6lNPJpHhUtmz0egr7SpUDaMSc9HnJIgAIEnIfCCVmkU6X1odLGaudPi+NCMiSH5Ui/GjpfacsgNAR+B/v6LldH+wfJ+aX35ARE8YAmBTiHAmNQpLYEcj0/A/LhRceWnzMfdmcHhhcrjF0COHUPghZ2l6RhuCAIBCEAAAhCAAAQgAAEIdASBF7RK0xG8EAICEIAABCAAAQhAAAIQ6CgCuDQd1RwIAwEIQAACEIAABCAAAQikI4BLk44XqSEAAQhAAAIQgAAEIACBjiKAS9NRzYEwEIAABCAAAQhAAAIQgEA6Arg06XiRGgIQgAAEIAABCEAAAhDoKAK4NB3VHAgDAQhAAAIQgAAEIAABCKQjgEuTjhepIQABCEAAAhCAAAQgAIGOIoBL01HNgTAQgAAEIAABCEAAAhCAQDoCuDTpeJEaAhCAAAQgAAEIQAACEOgoArg0HdUcCAMBCEAAAhCAAAQgAAEIpCOAS5OOF6khAAEIQAACEIAABCAAgY4igEvTUc2BMBCAAAQgAAEIQAACEIBAOgK4NOl4kRoCEIAABCAAAQhAAAIQ6CgCuDQd1RwIAwEIQAACEIAABCAAAQikI4BLk44XqSEAAQhAAAIQgAAEIACBjiKAS9NRzYEwEIAABCAAAQhAAAIQgEA6Arg06XiRGgIQgAAEIAABCEAAAhDoKAK4NB3VHAgDAQhAAAIQgAAEIAABCKQjgEuTjhepIQABCEAAAhCAAAQgAIGOIoBL01HNgTAQgAAEIAABCEAAAhCAQDoCuDTpeJEaAhCAAAQgAAEIQAACEOgoArg0HdUcCAMBCEAAAhCAAAQgAAEIpCOAS5OOF6khAAEIQAACEIAABCAAgY4igEvTUc2BMBCAAAQgAAEIQAACEIBAOgK4NOl4kRoCEIAABCAAAQhAAAIQ6CgCuDQd1RwIAwEIQAACEIAABCAAAQikI4BLk44XqSEAAQhAAAIQgAAEIACBjiKAS9NRzYEwEIAABCAAAQhAAAIQgEA6Arg06XiRGgIQgAAEIAABCEAAAhDoKAK4NB3VHAgDAQhAAAIQeAQC33333VdfffUIGZEFBCAAgZdAAJfmJbQSMkIAAhCAAARaI7C8vPzFF198++23P/74Y2tvkAoCEIDAiyfw2f39/YuvBBWAAAQgAAEIQCBI4LPPGOLRCQhAoFcIsErTKy1NPSEAAQhAAAIQgAAEINCVBHBpurJZqRQEIAABCEAAAhCAAAR6hQAuTa+0NPWEAAQgAAEIQAACEIBAVxLApenKZqVSEIAABCAAAQhAAAIQ6BUCuDS90tLUEwIQgAAEXjQBBWXWif/I69e//vWLrhrCQwACEGiTAOFQ2gTI6xCAAAQgAIFOJEDEs05sFWSCAASehgCrNE/DlVwhAAEIQAACEIAABCAAgWchgEvzLJgpBAIQgAAEuojAq1ev7A1g2vH117/+VTX7+eef9bdu/u53v7PvfKrq6qc2bdkkgC1PSBLv6cMknJ+ft7fAqaYeBBV6fX39sAx5CwIQgED7BNh41j5DcoAABCAAgZ4joBn8F198sbS0tLq6aldec/0//vGPX375ZYezkMf17bff/u1vf3uwnF9//bVy+Pvf/+7loDx1/eUvf3lwnrwIAQhAoB0CrNK0Q493IQABCECgRwl8/vnncmC8BRn98SL8GbXWjz/+2KbfpRx++9vf+hteHz/t2lSPaiHVhgAEXAK4NOgCBCAAAQhA4CEE5MNov5m9QPGrX/2qTT/hIRI86J3vvvsu5JCkzUY5hCqrdZs280wrA+khAAEI+Ang0qAPEIAABCAAgYcQ0LRe83j7GMlL8We0X86/xqJTMdo+JxdFtdAfOhujP5JZ6HVl8vvf/95OJqdOr+hfdp0lc+MpBCDwpARwaZ4UL5lDAAIQgEA3E5BLo9l82gUK23mwz9Y3/is34+mQ+ZdotL70zTffaK1Jp4C0yvSLdWm9Jbl05aAEXhX0rtwb+TPaiZf8Ik8hAAEIPB0BXJqnY0vOEIAABCDQzQS0XiFPQFN5nZVPVU95Dvfx1w8//JAqt1SJ/Qdp7M1ycskU5ECOjfLR37qZnKFykA9ji6+KaHmKUzTJxKXqvFEAAAVRSURBVHgKAQg8AwFcmmeATBEQgAAEINBtBDSz13qFJvdyBuTSNIYwVqDnpiserUNpXMxJdccryL9KY2+WC63beDvK4mTzH6SRO6f0QuFP/LgVjxOD+xCAAAT8BAjijD5AAAIQgAAE0hHQJF5LE3b4ZvsXaewdXC3mol1bjS6Q9648jSdaqLEDT2uBxVuNUUXkgXjhmPXTOvYWsri1GruyEs87O6Rfp5Hk7YSEbhEaySAAAQgkEGCVJgEOjyAAAQhAAAJhAn5/Rs80+9dCTWhBRhP9hCMxn2rjmb1TTo6Nt1POv0Qjd0VX8kYypQ/FdrOP1oiDvf0sueJhlHyGAAQg8EgEcGkeCSTZQAACEIBAtxPQ9F2n4TVrlwPj7baSe6C/5Qx44cI0uddah24mLMV8ElT22ouWYrzdZRLSW2+xfRU9jYx2oLqrgqq+vdTjVV9Z6ZHtv3VsxT8JbQqFAASekwAbz56TNmVBAAIQgEBPENCMX27P88Q1lpuhMy32LrhPDvc5K/7JK4sAEIBA5xDApemctkASCEAAAhDoEgJyM+y1jqan7duvsL1s4j/f0n6eD87hOSv+YCF5EQIQ6D4CbDzrvjalRhCAAAQg8IkJaLFCk/vnEcIOO9YhkZSfs+LPg5dSIACBF0GAVZoX0UwICQEIQAACEIglIH9meXnZC1wWm44HEIAABLqUAKs0XdqwVAsCEIAABHqGgLa3afuZF3ysZ+pNRSEAAQg4BHBpUAUIQAACEIDAiycgr6ZD9p69eJRUAAIQeIEEcGleYKMhMgQgAAEIQMBHwA4YjUuDUkAAAj1LAJemZ5ueikMAAhCAQDcQkD+j38ZRwGjFCcCr6YYWpQ4QgEB6Arg06ZnxBgQgAAEIQKAzCMifUWAA+0dp2HvWGW2CFBCAwCcgQMSzTwCdIiEAAQhAAALtE5A/8+rVK/0ijdZnlJs+fvXVV7/88ov9sf38yQECEIDASyHAKs1LaSnkhAAEIAABCAQIyJ+x95vZd7/88kv9vqc2oYEJAhCAQK8RYJWm11qc+kIAAhCAAAQgAAEIQKCrCLBK01XNSWUgAAEIQAACEIAABCDQawRwaXqtxakvBCAAAQhAAAIQgAAEuooALk1XNSeVgQAEIAABCEAAAhCAQK8RwKXptRanvhCAAAQgAAEIQAACEOgqArg0XdWcVAYCEIAABCAAAQhAAAK9RgCXptdanPpCAAIQgAAEIAABCECgqwjg0nRVc1IZCEAAAhCAAAQgAAEI9BoBXJpea3HqCwEIQAACEIAABCAAga4igEvTVc1JZSAAAQhAAAIQgAAEINBrBHBpeq3FqS8EIAABCEAAAhCAAAS6igAuTVc1J5WBAAQgAAEIQAACEIBArxHApem1Fqe+EIAABCAAAQhAAAIQ6CoCuDRd1ZxUBgIQgAAEIAABCEAAAr1GAJem11qc+kIAAhCAAAQgAAEIQKCrCODSdFVzUhkIQAACEIAABCAAAQj0GgFcml5rceoLAQhAAAIQgAAEIACBriKAS9NVzUllIAABCEAAAhCAAAQg0GsEcGl6rcWpLwQgAAEIQAACEIAABLqKAC5NVzUnlYEABCAAAQhAAAIQgECvEcCl6bUWp74QgAAEIAABCEAAAhDoKgK4NF3VnFQGAhCAAAQgAAEIQAACvUYAl6bXWpz6QgACEIAABCAAAQhAoKsI4NJ0VXNSGQhAAAIQgAAEIAABCPQaAVyaXmtx6gsBCEAAAhCAAAQgAIGuIoBL01XNSWUgAAEIQAACEIAABCDQawRwaXqtxakvBCAAAQhAAAIQgAAEuorA/wNJrUC1YaGdggAAAABJRU5ErkJggg==)"
      ]
    },
    {
      "cell_type": "code",
      "metadata": {
        "id": "2rt43IOKz1e-",
        "outputId": "4eb8a796-b31c-46fd-fa09-f522fc019962",
        "colab": {
          "base_uri": "https://localhost:8080/",
          "height": 69
        }
      },
      "source": [
        "import math\n",
        "import numpy as np\n",
        "import time\n",
        "\n",
        "def random(a = 1500, m = (2**30), n = 1, seed = 1):\n",
        "  x = [] \n",
        "  x.append(seed)\n",
        "  for i in range(n):\n",
        "    temp = a*x[-1] % m\n",
        "    x.append(temp)\n",
        "  hasil = [i/m for i in x]\n",
        "  hasil = np.array(hasil)\n",
        "  return hasil\n",
        "\n",
        "def uniform(low = 0, high = 1, seed = 1, n = 1):\n",
        "  return low + (high-low) * random(seed = seed, n = n)\n",
        "\n",
        "def pseudo_exp(lamb, jumlah=1):\n",
        "  t = time.perf_counter()\n",
        "  seed = 123456789\n",
        "  U = uniform(seed = seed, n = jumlah)\n",
        "  X = -(1/lamb) * (np.log(1-U))\n",
        "  return X\n",
        "\n",
        "pseudo_exp(10, jumlah=10)"
      ],
      "execution_count": 6,
      "outputs": [
        {
          "output_type": "execute_result",
          "data": {
            "text/plain": [
              "array([0.01221429, 0.06295001, 0.12476349, 0.02551305, 0.15002658,\n",
              "       0.05003971, 0.08328798, 0.16447053, 0.05038715, 0.12711189,\n",
              "       0.02531297])"
            ]
          },
          "metadata": {
            "tags": []
          },
          "execution_count": 6
        }
      ]
    },
    {
      "cell_type": "markdown",
      "metadata": {
        "id": "7Y4YoOyM4Su3"
      },
      "source": [
        "Sumber : [Exponential Distribution](https://www.eg.bucknell.edu/~xmeng/Course/CS6337/Note/master/node50.html)"
      ]
    },
    {
      "cell_type": "markdown",
      "metadata": {
        "id": "UkPUY_GM4kf1"
      },
      "source": [
        "# Bernoulli"
      ]
    },
    {
      "cell_type": "code",
      "metadata": {
        "id": "7gE1R2Sz4ory",
        "outputId": "e7255b3a-907d-4271-9d2b-64f9fbf06321",
        "colab": {
          "base_uri": "https://localhost:8080/",
          "height": 69
        }
      },
      "source": [
        "import math\n",
        "import numpy as np\n",
        "\n",
        "def random(a = 1500, m = (2**30), n = 1, seed = 1):\n",
        "  x = [] \n",
        "  x.append(seed)\n",
        "  for i in range(n):\n",
        "    temp = a*x[-1] % m\n",
        "    x.append(temp)\n",
        "  hasil = [i/m for i in x]\n",
        "  hasil = np.array(hasil)\n",
        "  return hasil\n",
        "\n",
        "def uniform(low = 0, high = 1, seed = 1, n = 1):\n",
        "  return low + (high-low) * random(seed = seed, n = n)\n",
        "\n",
        "def bernoulli(p = 0.5, size=1):\n",
        "  bernoulli = []\n",
        "  for _ in range(size):\n",
        "    seed = 123456789\n",
        "    B = uniform(seed = seed, n = size)\n",
        "    U = (B <= p).astype(int)\n",
        "    bernoulli.append(np.sum(U))\n",
        "\n",
        "  return B\n",
        "\n",
        "bernoulli(p = 0.5, size = 10)"
      ],
      "execution_count": 7,
      "outputs": [
        {
          "output_type": "execute_result",
          "data": {
            "text/plain": [
              "array([0.11497809, 0.46714188, 0.71281679, 0.22518462, 0.77692914,\n",
              "       0.39371014, 0.56520462, 0.80693054, 0.39581299, 0.71948242,\n",
              "       0.22363281])"
            ]
          },
          "metadata": {
            "tags": []
          },
          "execution_count": 7
        }
      ]
    }
  ]
}